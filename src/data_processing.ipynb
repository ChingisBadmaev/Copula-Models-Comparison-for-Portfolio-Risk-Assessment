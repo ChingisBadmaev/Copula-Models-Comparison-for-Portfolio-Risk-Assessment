{
 "cells": [
  {
   "cell_type": "code",
   "execution_count": 1,
   "metadata": {},
   "outputs": [],
   "source": [
    "import pandas as pd\n",
    "import numpy as np\n",
    "import scipy.stats\n",
    "import matplotlib.pyplot as plt\n",
    "import seaborn as sns\n",
    "from scipy.stats import levy_stable\n",
    "from scipy import stats\n",
    "\n",
    "import math"
   ]
  },
  {
   "cell_type": "code",
   "execution_count": 2,
   "metadata": {
    "scrolled": true
   },
   "outputs": [],
   "source": [
    "data_vkco = pd.read_csv(\"VKCO.IL.csv\")\n",
    "data_tcs_il = pd.read_csv(\"TCS.IL.csv\")\n",
    "data_poly_il = pd.read_csv(\"POLY.L.csv\")\n",
    "data_five_il = pd.read_csv(\"FIVE.IL.csv\")"
   ]
  },
  {
   "cell_type": "markdown",
   "metadata": {},
   "source": [
    "\n",
    "### Equation transforms a price series p into a log-returns r series for each asset:"
   ]
  },
  {
   "cell_type": "code",
   "execution_count": 3,
   "metadata": {},
   "outputs": [],
   "source": [
    "def get_log_return(dataframe, column):\n",
    "    log_return = []\n",
    "    data = dataframe[column]\n",
    "    for i in range(1, len(data)):\n",
    "        log_return.append(np.log(data[i] / data[i - 1]))\n",
    "    return log_return"
   ]
  },
  {
   "cell_type": "code",
   "execution_count": 4,
   "metadata": {},
   "outputs": [],
   "source": [
    "log_return_vkco = pd.DataFrame({'log_return_vkco': get_log_return(data_vkco, 'Close')})\n",
    "log_return_tcs_il = pd.DataFrame({'log_return_tcs_il': get_log_return(data_tcs_il, 'Close')})\n",
    "log_return_poly_il = pd.DataFrame({'log_return_poly_il': get_log_return(data_poly_il, 'Close')})\n",
    "log_return_five_il = pd.DataFrame({'log_return_five_il': get_log_return(data_five_il, 'Close')})"
   ]
  },
  {
   "cell_type": "markdown",
   "metadata": {},
   "source": [
    "### Проверка на нормальное распределение критерием Шапиро-Уилка"
   ]
  },
  {
   "cell_type": "code",
   "execution_count": 6,
   "metadata": {
    "scrolled": false
   },
   "outputs": [
    {
     "name": "stdout",
     "output_type": "stream",
     "text": [
      "p-value:\n",
      "vkco: 6.867368007590358e-09\n",
      "tcs_il: 4.4525447307560036e-15\n",
      "poly_il: 4.1895285851634156e-11\n",
      "five_il: 1.3064079169584214e-13\n"
     ]
    }
   ],
   "source": [
    "res_vkco = stats.shapiro(pd.DataFrame({'log_return': log_return_vkco['log_return_vkco']}))\n",
    "res_tcs_il = stats.shapiro(pd.DataFrame({'log_return': log_return_tcs_il['log_return_tcs_il']}))\n",
    "res_poly_il = stats.shapiro(pd.DataFrame({'log_return': log_return_poly_il['log_return_poly_il']}))\n",
    "res_five_il = stats.shapiro(pd.DataFrame({'log_return': log_return_five_il['log_return_five_il']}))\n",
    "\n",
    "print('p-value:')\n",
    "print('vkco:', res_vkco[1])\n",
    "print('tcs_il:', res_tcs_il[1])\n",
    "print('poly_il:', res_poly_il[1])\n",
    "print('five_il:', res_five_il[1])"
   ]
  },
  {
   "cell_type": "code",
   "execution_count": 18,
   "metadata": {},
   "outputs": [
    {
     "data": {
      "image/png": "[encoded data removed]",
      "text/plain": [
       "<Figure size 432x288 with 1 Axes>"
      ]
     },
     "metadata": {
      "needs_background": "light"
     },
     "output_type": "display_data"
    },
    {
     "data": {
      "image/png": "[encoded data removed]",
      "text/plain": [
       "<Figure size 432x288 with 1 Axes>"
      ]
     },
     "metadata": {
      "needs_background": "light"
     },
     "output_type": "display_data"
    },
    {
     "data": {
      "image/png": "[encoded data removed]",
      "text/plain": [
       "<Figure size 432x288 with 1 Axes>"
      ]
     },
     "metadata": {
      "needs_background": "light"
     },
     "output_type": "display_data"
    },
    {
     "data": {
      "image/png": "[encoded data removed]",
      "text/plain": [
       "<Figure size 432x288 with 1 Axes>"
      ]
     },
     "metadata": {
      "needs_background": "light"
     },
     "output_type": "display_data"
    }
   ],
   "source": [
    "for item in [log_return_vkco, log_return_tcs_il, log_return_poly_il, log_return_five_il]:\n",
    "    plt.figure()\n",
    "    plt.hist(item, bins=255, label='hst')"
   ]
  },
  {
   "cell_type": "code",
   "execution_count": 8,
   "metadata": {},
   "outputs": [],
   "source": [
    "def show_corr(dataframe):\n",
    "    plt.figure(figsize=(22,18), dpi= 50)\n",
    "    sns.heatmap(dataframe.corr(), xticklabels=dataframe.corr().columns, yticklabels=dataframe.corr().columns, cmap='RdYlGn', center=0, annot=True)\n",
    "\n",
    "    # Decorations\n",
    "    plt.title('Correlogram of mtcars', fontsize=15)\n",
    "    plt.xticks(fontsize=15)\n",
    "    plt.yticks(fontsize=15)\n",
    "    plt.show()"
   ]
  },
  {
   "cell_type": "code",
   "execution_count": 21,
   "metadata": {},
   "outputs": [
    {
     "data": {
      "text/html": [
       "<div>\n",
       "<style scoped>\n",
       "    .dataframe tbody tr th:only-of-type {\n",
       "        vertical-align: middle;\n",
       "    }\n",
       "\n",
       "    .dataframe tbody tr th {\n",
       "        vertical-align: top;\n",
       "    }\n",
       "\n",
       "    .dataframe thead th {\n",
       "        text-align: right;\n",
       "    }\n",
       "</style>\n",
       "<table border=\"1\" class=\"dataframe\">\n",
       "  <thead>\n",
       "    <tr style=\"text-align: right;\">\n",
       "      <th></th>\n",
       "      <th>log_return_vkco</th>\n",
       "      <th>log_return_tcs_il</th>\n",
       "      <th>log_return_poly_il</th>\n",
       "      <th>log_return_five_il</th>\n",
       "    </tr>\n",
       "  </thead>\n",
       "  <tbody>\n",
       "    <tr>\n",
       "      <th>0</th>\n",
       "      <td>-0.012110</td>\n",
       "      <td>-0.004162</td>\n",
       "      <td>-0.003712</td>\n",
       "      <td>-0.013377</td>\n",
       "    </tr>\n",
       "    <tr>\n",
       "      <th>1</th>\n",
       "      <td>-0.035292</td>\n",
       "      <td>0.000000</td>\n",
       "      <td>-0.029352</td>\n",
       "      <td>-0.024070</td>\n",
       "    </tr>\n",
       "    <tr>\n",
       "      <th>2</th>\n",
       "      <td>0.011583</td>\n",
       "      <td>0.002083</td>\n",
       "      <td>-0.013279</td>\n",
       "      <td>0.007894</td>\n",
       "    </tr>\n",
       "    <tr>\n",
       "      <th>3</th>\n",
       "      <td>-0.006740</td>\n",
       "      <td>0.004154</td>\n",
       "      <td>0.025964</td>\n",
       "      <td>-0.002916</td>\n",
       "    </tr>\n",
       "    <tr>\n",
       "      <th>4</th>\n",
       "      <td>-0.009709</td>\n",
       "      <td>0.015425</td>\n",
       "      <td>-0.010984</td>\n",
       "      <td>-0.007034</td>\n",
       "    </tr>\n",
       "    <tr>\n",
       "      <th>...</th>\n",
       "      <td>...</td>\n",
       "      <td>...</td>\n",
       "      <td>...</td>\n",
       "      <td>...</td>\n",
       "    </tr>\n",
       "    <tr>\n",
       "      <th>248</th>\n",
       "      <td>-0.007648</td>\n",
       "      <td>0.018653</td>\n",
       "      <td>0.030041</td>\n",
       "      <td>0.010193</td>\n",
       "    </tr>\n",
       "    <tr>\n",
       "      <th>249</th>\n",
       "      <td>0.019012</td>\n",
       "      <td>0.044184</td>\n",
       "      <td>0.029452</td>\n",
       "      <td>-0.006216</td>\n",
       "    </tr>\n",
       "    <tr>\n",
       "      <th>250</th>\n",
       "      <td>0.018657</td>\n",
       "      <td>0.038540</td>\n",
       "      <td>0.008584</td>\n",
       "      <td>0.036732</td>\n",
       "    </tr>\n",
       "    <tr>\n",
       "      <th>251</th>\n",
       "      <td>0.046940</td>\n",
       "      <td>0.035287</td>\n",
       "      <td>0.042393</td>\n",
       "      <td>0.000000</td>\n",
       "    </tr>\n",
       "    <tr>\n",
       "      <th>252</th>\n",
       "      <td>0.020943</td>\n",
       "      <td>0.012693</td>\n",
       "      <td>0.028269</td>\n",
       "      <td>0.003818</td>\n",
       "    </tr>\n",
       "  </tbody>\n",
       "</table>\n",
       "<p>253 rows × 4 columns</p>\n",
       "</div>"
      ],
      "text/plain": [
       "     log_return_vkco  log_return_tcs_il  log_return_poly_il  \\\n",
       "0          -0.012110          -0.004162           -0.003712   \n",
       "1          -0.035292           0.000000           -0.029352   \n",
       "2           0.011583           0.002083           -0.013279   \n",
       "3          -0.006740           0.004154            0.025964   \n",
       "4          -0.009709           0.015425           -0.010984   \n",
       "..               ...                ...                 ...   \n",
       "248        -0.007648           0.018653            0.030041   \n",
       "249         0.019012           0.044184            0.029452   \n",
       "250         0.018657           0.038540            0.008584   \n",
       "251         0.046940           0.035287            0.042393   \n",
       "252         0.020943           0.012693            0.028269   \n",
       "\n",
       "     log_return_five_il  \n",
       "0             -0.013377  \n",
       "1             -0.024070  \n",
       "2              0.007894  \n",
       "3             -0.002916  \n",
       "4             -0.007034  \n",
       "..                  ...  \n",
       "248            0.010193  \n",
       "249           -0.006216  \n",
       "250            0.036732  \n",
       "251            0.000000  \n",
       "252            0.003818  \n",
       "\n",
       "[253 rows x 4 columns]"
      ]
     },
     "execution_count": 21,
     "metadata": {},
     "output_type": "execute_result"
    }
   ],
   "source": [
    "all_data = pd.DataFrame()\n",
    "all_data = pd.concat([log_return_vkco, log_return_tcs_il, log_return_poly_il, log_return_five_il], axis=1)\n",
    "all_data.to_csv('log_return_data.csv', index=False)\n",
    "all_data"
   ]
  },
  {
   "cell_type": "code",
   "execution_count": 10,
   "metadata": {
    "scrolled": false
   },
   "outputs": [
    {
     "data": {
      "image/png": "[encoded data removed]",
      "text/plain": [
       "<Figure size 1100x900 with 2 Axes>"
      ]
     },
     "metadata": {
      "needs_background": "light"
     },
     "output_type": "display_data"
    }
   ],
   "source": [
    "show_corr(all_data)"
   ]
  },
  {
   "cell_type": "markdown",
   "metadata": {},
   "source": [
    "### Оценка параметров"
   ]
  },
  {
   "cell_type": "markdown",
   "metadata": {},
   "source": [
    "##### Сдвигаем на -E[X]\n"
   ]
  },
  {
   "cell_type": "code",
   "execution_count": 11,
   "metadata": {},
   "outputs": [],
   "source": [
    "def get_expected_value(dataframe):\n",
    "    return dataframe.mean()"
   ]
  },
  {
   "cell_type": "code",
   "execution_count": 12,
   "metadata": {},
   "outputs": [],
   "source": [
    "def math_expectation_shift(dataframe):\n",
    "    return dataframe - get_expected_value(dataframe)"
   ]
  },
  {
   "cell_type": "code",
   "execution_count": 15,
   "metadata": {},
   "outputs": [
    {
     "name": "stdout",
     "output_type": "stream",
     "text": [
      "Expected value: log_return_vkco    0.001158\n",
      "dtype: float64\n",
      "Expected value: log_return_tcs_il    0.001443\n",
      "dtype: float64\n",
      "Expected value: log_return_poly_il    0.001734\n",
      "dtype: float64\n",
      "Expected value: log_return_five_il    0.00015\n",
      "dtype: float64\n"
     ]
    },
    {
     "data": {
      "image/png": "[encoded data removed]",
      "text/plain": [
       "<Figure size 432x288 with 1 Axes>"
      ]
     },
     "metadata": {
      "needs_background": "light"
     },
     "output_type": "display_data"
    },
    {
     "data": {
      "image/png": "[encoded data removed]",
      "text/plain": [
       "<Figure size 432x288 with 1 Axes>"
      ]
     },
     "metadata": {
      "needs_background": "light"
     },
     "output_type": "display_data"
    },
    {
     "data": {
      "image/png": "[encoded data removed]",
      "text/plain": [
       "<Figure size 432x288 with 1 Axes>"
      ]
     },
     "metadata": {
      "needs_background": "light"
     },
     "output_type": "display_data"
    },
    {
     "data": {
      "image/png": "[encoded data removed]",
      "text/plain": [
       "<Figure size 432x288 with 1 Axes>"
      ]
     },
     "metadata": {
      "needs_background": "light"
     },
     "output_type": "display_data"
    }
   ],
   "source": [
    "for item in [log_return_vkco, log_return_tcs_il, log_return_poly_il, log_return_five_il]:\n",
    "    print('Expected value:', (get_expected_value(item)))\n",
    "    math_expectation_shift(item).hist(bins=30)"
   ]
  },
  {
   "cell_type": "code",
   "execution_count": 22,
   "metadata": {},
   "outputs": [
    {
     "data": {
      "text/html": [
       "<div>\n",
       "<style scoped>\n",
       "    .dataframe tbody tr th:only-of-type {\n",
       "        vertical-align: middle;\n",
       "    }\n",
       "\n",
       "    .dataframe tbody tr th {\n",
       "        vertical-align: top;\n",
       "    }\n",
       "\n",
       "    .dataframe thead th {\n",
       "        text-align: right;\n",
       "    }\n",
       "</style>\n",
       "<table border=\"1\" class=\"dataframe\">\n",
       "  <thead>\n",
       "    <tr style=\"text-align: right;\">\n",
       "      <th></th>\n",
       "      <th>log_return_vkco</th>\n",
       "      <th>log_return_tcs_il</th>\n",
       "      <th>log_return_poly_il</th>\n",
       "      <th>log_return_five_il</th>\n",
       "    </tr>\n",
       "  </thead>\n",
       "  <tbody>\n",
       "    <tr>\n",
       "      <th>0</th>\n",
       "      <td>-0.013268</td>\n",
       "      <td>-0.005606</td>\n",
       "      <td>-0.005446</td>\n",
       "      <td>-0.013527</td>\n",
       "    </tr>\n",
       "    <tr>\n",
       "      <th>1</th>\n",
       "      <td>-0.036450</td>\n",
       "      <td>-0.001443</td>\n",
       "      <td>-0.031087</td>\n",
       "      <td>-0.024220</td>\n",
       "    </tr>\n",
       "    <tr>\n",
       "      <th>2</th>\n",
       "      <td>0.010426</td>\n",
       "      <td>0.000640</td>\n",
       "      <td>-0.015014</td>\n",
       "      <td>0.007743</td>\n",
       "    </tr>\n",
       "    <tr>\n",
       "      <th>3</th>\n",
       "      <td>-0.007898</td>\n",
       "      <td>0.002710</td>\n",
       "      <td>0.024230</td>\n",
       "      <td>-0.003066</td>\n",
       "    </tr>\n",
       "    <tr>\n",
       "      <th>4</th>\n",
       "      <td>-0.010866</td>\n",
       "      <td>0.013981</td>\n",
       "      <td>-0.012719</td>\n",
       "      <td>-0.007184</td>\n",
       "    </tr>\n",
       "    <tr>\n",
       "      <th>...</th>\n",
       "      <td>...</td>\n",
       "      <td>...</td>\n",
       "      <td>...</td>\n",
       "      <td>...</td>\n",
       "    </tr>\n",
       "    <tr>\n",
       "      <th>248</th>\n",
       "      <td>-0.008806</td>\n",
       "      <td>0.017210</td>\n",
       "      <td>0.028307</td>\n",
       "      <td>0.010042</td>\n",
       "    </tr>\n",
       "    <tr>\n",
       "      <th>249</th>\n",
       "      <td>0.017854</td>\n",
       "      <td>0.042740</td>\n",
       "      <td>0.027718</td>\n",
       "      <td>-0.006367</td>\n",
       "    </tr>\n",
       "    <tr>\n",
       "      <th>250</th>\n",
       "      <td>0.017500</td>\n",
       "      <td>0.037097</td>\n",
       "      <td>0.006849</td>\n",
       "      <td>0.036582</td>\n",
       "    </tr>\n",
       "    <tr>\n",
       "      <th>251</th>\n",
       "      <td>0.045782</td>\n",
       "      <td>0.033843</td>\n",
       "      <td>0.040659</td>\n",
       "      <td>-0.000150</td>\n",
       "    </tr>\n",
       "    <tr>\n",
       "      <th>252</th>\n",
       "      <td>0.019786</td>\n",
       "      <td>0.011249</td>\n",
       "      <td>0.026535</td>\n",
       "      <td>0.003668</td>\n",
       "    </tr>\n",
       "  </tbody>\n",
       "</table>\n",
       "<p>253 rows × 4 columns</p>\n",
       "</div>"
      ],
      "text/plain": [
       "     log_return_vkco  log_return_tcs_il  log_return_poly_il  \\\n",
       "0          -0.013268          -0.005606           -0.005446   \n",
       "1          -0.036450          -0.001443           -0.031087   \n",
       "2           0.010426           0.000640           -0.015014   \n",
       "3          -0.007898           0.002710            0.024230   \n",
       "4          -0.010866           0.013981           -0.012719   \n",
       "..               ...                ...                 ...   \n",
       "248        -0.008806           0.017210            0.028307   \n",
       "249         0.017854           0.042740            0.027718   \n",
       "250         0.017500           0.037097            0.006849   \n",
       "251         0.045782           0.033843            0.040659   \n",
       "252         0.019786           0.011249            0.026535   \n",
       "\n",
       "     log_return_five_il  \n",
       "0             -0.013527  \n",
       "1             -0.024220  \n",
       "2              0.007743  \n",
       "3             -0.003066  \n",
       "4             -0.007184  \n",
       "..                  ...  \n",
       "248            0.010042  \n",
       "249           -0.006367  \n",
       "250            0.036582  \n",
       "251           -0.000150  \n",
       "252            0.003668  \n",
       "\n",
       "[253 rows x 4 columns]"
      ]
     },
     "execution_count": 22,
     "metadata": {},
     "output_type": "execute_result"
    }
   ],
   "source": [
    "all_data = pd.DataFrame()\n",
    "all_data = pd.concat([log_return_vkco, \n",
    "                      log_return_tcs_il), \n",
    "                      math_expectation_shift(log_return_poly_il), \n",
    "                      math_expectation_shift(log_return_five_il)], axis=1)\n",
    "all_data.to_csv('log_return_data.csv', index=False)\n",
    "all_data"
   ]
  },
  {
   "cell_type": "markdown",
   "metadata": {},
   "source": [
    "### Построение характеристической функции"
   ]
  },
  {
   "cell_type": "code",
   "execution_count": 13,
   "metadata": {},
   "outputs": [],
   "source": [
    "def characteristic_func(dataframe):\n",
    "    plt.plot(dataframe.index, dataframe.sort_values(by=[dataframe.columns[0]]))\n",
    "    plt.show()"
   ]
  },
  {
   "cell_type": "code",
   "execution_count": 14,
   "metadata": {},
   "outputs": [
    {
     "data": {
      "image/png": "[encoded data removed]",
      "text/plain": [
       "<Figure size 432x288 with 1 Axes>"
      ]
     },
     "metadata": {
      "needs_background": "light"
     },
     "output_type": "display_data"
    },
    {
     "data": {
      "image/png": "[encoded data removed]",
      "text/plain": [
       "<Figure size 432x288 with 1 Axes>"
      ]
     },
     "metadata": {
      "needs_background": "light"
     },
     "output_type": "display_data"
    },
    {
     "data": {
      "image/png": "[encoded data removed]",
      "text/plain": [
       "<Figure size 432x288 with 1 Axes>"
      ]
     },
     "metadata": {
      "needs_background": "light"
     },
     "output_type": "display_data"
    },
    {
     "data": {
      "image/png": "[encoded data removed]",
      "text/plain": [
       "<Figure size 432x288 with 1 Axes>"
      ]
     },
     "metadata": {
      "needs_background": "light"
     },
     "output_type": "display_data"
    }
   ],
   "source": [
    "characteristic_func(log_return_vkco)\n",
    "characteristic_func(log_return_five_il)\n",
    "characteristic_func(log_return_tcs_il)\n",
    "characteristic_func(log_return_poly_il)"
   ]
  },
  {
   "cell_type": "markdown",
   "metadata": {},
   "source": [
    "### Нахождение параметров alpha и sigma"
   ]
  },
  {
   "cell_type": "code",
   "execution_count": 15,
   "metadata": {},
   "outputs": [],
   "source": [
    "def func_log_log(dataframe):\n",
    "    return np.log(-np.log((dataframe ** 2)))"
   ]
  },
  {
   "cell_type": "code",
   "execution_count": 16,
   "metadata": {
    "scrolled": false
   },
   "outputs": [
    {
     "data": {
      "text/html": [
       "<div>\n",
       "<style scoped>\n",
       "    .dataframe tbody tr th:only-of-type {\n",
       "        vertical-align: middle;\n",
       "    }\n",
       "\n",
       "    .dataframe tbody tr th {\n",
       "        vertical-align: top;\n",
       "    }\n",
       "\n",
       "    .dataframe thead th {\n",
       "        text-align: right;\n",
       "    }\n",
       "</style>\n",
       "<table border=\"1\" class=\"dataframe\">\n",
       "  <thead>\n",
       "    <tr style=\"text-align: right;\">\n",
       "      <th></th>\n",
       "      <th>log_return_yndx</th>\n",
       "    </tr>\n",
       "  </thead>\n",
       "  <tbody>\n",
       "    <tr>\n",
       "      <th>0</th>\n",
       "      <td>2.869910</td>\n",
       "    </tr>\n",
       "    <tr>\n",
       "      <th>1</th>\n",
       "      <td>2.737223</td>\n",
       "    </tr>\n",
       "    <tr>\n",
       "      <th>2</th>\n",
       "      <td>2.160556</td>\n",
       "    </tr>\n",
       "    <tr>\n",
       "      <th>3</th>\n",
       "      <td>2.504982</td>\n",
       "    </tr>\n",
       "    <tr>\n",
       "      <th>4</th>\n",
       "      <td>2.092436</td>\n",
       "    </tr>\n",
       "    <tr>\n",
       "      <th>...</th>\n",
       "      <td>...</td>\n",
       "    </tr>\n",
       "    <tr>\n",
       "      <th>247</th>\n",
       "      <td>2.135423</td>\n",
       "    </tr>\n",
       "    <tr>\n",
       "      <th>248</th>\n",
       "      <td>2.179995</td>\n",
       "    </tr>\n",
       "    <tr>\n",
       "      <th>249</th>\n",
       "      <td>1.746347</td>\n",
       "    </tr>\n",
       "    <tr>\n",
       "      <th>250</th>\n",
       "      <td>1.971398</td>\n",
       "    </tr>\n",
       "    <tr>\n",
       "      <th>251</th>\n",
       "      <td>2.254008</td>\n",
       "    </tr>\n",
       "  </tbody>\n",
       "</table>\n",
       "<p>252 rows × 1 columns</p>\n",
       "</div>"
      ],
      "text/plain": [
       "     log_return_yndx\n",
       "0           2.869910\n",
       "1           2.737223\n",
       "2           2.160556\n",
       "3           2.504982\n",
       "4           2.092436\n",
       "..               ...\n",
       "247         2.135423\n",
       "248         2.179995\n",
       "249         1.746347\n",
       "250         1.971398\n",
       "251         2.254008\n",
       "\n",
       "[252 rows x 1 columns]"
      ]
     },
     "execution_count": 16,
     "metadata": {},
     "output_type": "execute_result"
    }
   ],
   "source": [
    "func_opt_five_il = func_log_log(log_return_five_il)\n",
    "func_opt_five_il"
   ]
  }
 ],
 "metadata": {
  "kernelspec": {
   "display_name": "Python 3",
   "language": "python",
   "name": "python3"
  },
  "language_info": {
   "codemirror_mode": {
    "name": "ipython",
    "version": 3
   },
   "file_extension": ".py",
   "mimetype": "text/x-python",
   "name": "python",
   "nbconvert_exporter": "python",
   "pygments_lexer": "ipython3",
   "version": "3.8.3"
  }
 },
 "nbformat": 4,
 "nbformat_minor": 4
}
