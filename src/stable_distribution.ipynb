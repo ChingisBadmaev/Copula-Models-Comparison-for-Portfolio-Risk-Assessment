{
 "cells": [
  {
   "cell_type": "code",
   "execution_count": 3,
   "metadata": {},
   "outputs": [],
   "source": [
    "import pandas as pd\n",
    "import numpy as np\n",
    "import scipy.stats\n",
    "import matplotlib.pyplot as plt\n",
    "import seaborn as sns\n",
    "from scipy.stats import levy_stable\n",
    "from scipy import stats\n",
    "from collections import Counter\n",
    "import math\n",
    "from tqdm import tqdm\n",
    "\n"
   ]
  },
  {
   "cell_type": "code",
   "execution_count": 4,
   "metadata": {
    "scrolled": false
   },
   "outputs": [
    {
     "data": {
      "text/html": [
       "<div>\n",
       "<style scoped>\n",
       "    .dataframe tbody tr th:only-of-type {\n",
       "        vertical-align: middle;\n",
       "    }\n",
       "\n",
       "    .dataframe tbody tr th {\n",
       "        vertical-align: top;\n",
       "    }\n",
       "\n",
       "    .dataframe thead th {\n",
       "        text-align: right;\n",
       "    }\n",
       "</style>\n",
       "<table border=\"1\" class=\"dataframe\">\n",
       "  <thead>\n",
       "    <tr style=\"text-align: right;\">\n",
       "      <th></th>\n",
       "      <th>log_return_vkco</th>\n",
       "      <th>log_return_tcs_il</th>\n",
       "      <th>log_return_poly_il</th>\n",
       "      <th>log_return_five_il</th>\n",
       "    </tr>\n",
       "  </thead>\n",
       "  <tbody>\n",
       "    <tr>\n",
       "      <th>0</th>\n",
       "      <td>-0.012110</td>\n",
       "      <td>-0.004162</td>\n",
       "      <td>-0.003712</td>\n",
       "      <td>-0.013377</td>\n",
       "    </tr>\n",
       "    <tr>\n",
       "      <th>1</th>\n",
       "      <td>-0.035292</td>\n",
       "      <td>0.000000</td>\n",
       "      <td>-0.029352</td>\n",
       "      <td>-0.024070</td>\n",
       "    </tr>\n",
       "    <tr>\n",
       "      <th>2</th>\n",
       "      <td>0.011583</td>\n",
       "      <td>0.002083</td>\n",
       "      <td>-0.013279</td>\n",
       "      <td>0.007894</td>\n",
       "    </tr>\n",
       "    <tr>\n",
       "      <th>3</th>\n",
       "      <td>-0.006740</td>\n",
       "      <td>0.004154</td>\n",
       "      <td>0.025964</td>\n",
       "      <td>-0.002916</td>\n",
       "    </tr>\n",
       "    <tr>\n",
       "      <th>4</th>\n",
       "      <td>-0.009709</td>\n",
       "      <td>0.015425</td>\n",
       "      <td>-0.010984</td>\n",
       "      <td>-0.007034</td>\n",
       "    </tr>\n",
       "    <tr>\n",
       "      <th>...</th>\n",
       "      <td>...</td>\n",
       "      <td>...</td>\n",
       "      <td>...</td>\n",
       "      <td>...</td>\n",
       "    </tr>\n",
       "    <tr>\n",
       "      <th>248</th>\n",
       "      <td>-0.007648</td>\n",
       "      <td>0.018653</td>\n",
       "      <td>0.030041</td>\n",
       "      <td>0.010193</td>\n",
       "    </tr>\n",
       "    <tr>\n",
       "      <th>249</th>\n",
       "      <td>0.019012</td>\n",
       "      <td>0.044184</td>\n",
       "      <td>0.029452</td>\n",
       "      <td>-0.006216</td>\n",
       "    </tr>\n",
       "    <tr>\n",
       "      <th>250</th>\n",
       "      <td>0.018657</td>\n",
       "      <td>0.038540</td>\n",
       "      <td>0.008584</td>\n",
       "      <td>0.036732</td>\n",
       "    </tr>\n",
       "    <tr>\n",
       "      <th>251</th>\n",
       "      <td>0.046940</td>\n",
       "      <td>0.035287</td>\n",
       "      <td>0.042393</td>\n",
       "      <td>0.000000</td>\n",
       "    </tr>\n",
       "    <tr>\n",
       "      <th>252</th>\n",
       "      <td>0.020943</td>\n",
       "      <td>0.012693</td>\n",
       "      <td>0.028269</td>\n",
       "      <td>0.003818</td>\n",
       "    </tr>\n",
       "  </tbody>\n",
       "</table>\n",
       "<p>253 rows × 4 columns</p>\n",
       "</div>"
      ],
      "text/plain": [
       "     log_return_vkco  log_return_tcs_il  log_return_poly_il  \\\n",
       "0          -0.012110          -0.004162           -0.003712   \n",
       "1          -0.035292           0.000000           -0.029352   \n",
       "2           0.011583           0.002083           -0.013279   \n",
       "3          -0.006740           0.004154            0.025964   \n",
       "4          -0.009709           0.015425           -0.010984   \n",
       "..               ...                ...                 ...   \n",
       "248        -0.007648           0.018653            0.030041   \n",
       "249         0.019012           0.044184            0.029452   \n",
       "250         0.018657           0.038540            0.008584   \n",
       "251         0.046940           0.035287            0.042393   \n",
       "252         0.020943           0.012693            0.028269   \n",
       "\n",
       "     log_return_five_il  \n",
       "0             -0.013377  \n",
       "1             -0.024070  \n",
       "2              0.007894  \n",
       "3             -0.002916  \n",
       "4             -0.007034  \n",
       "..                  ...  \n",
       "248            0.010193  \n",
       "249           -0.006216  \n",
       "250            0.036732  \n",
       "251            0.000000  \n",
       "252            0.003818  \n",
       "\n",
       "[253 rows x 4 columns]"
      ]
     },
     "execution_count": 4,
     "metadata": {},
     "output_type": "execute_result"
    }
   ],
   "source": [
    "data = pd.read_csv('/home/chingisbadmaev/Desktop/Copula-Models-Comparison-for-Portfolio-Risk-Assessment/data/log_return_data.csv')\n",
    "data\n"
   ]
  },
  {
   "cell_type": "markdown",
   "metadata": {},
   "source": [
    "### Воспользуемся встроенными функциями\n"
   ]
  },
  {
   "cell_type": "code",
   "execution_count": 5,
   "metadata": {},
   "outputs": [],
   "source": [
    "def get_x_y_from_dataframe(dataframe, name, N):\n",
    "    (y, x, _) = plt.hist(dataframe[name], bins=N)\n",
    "    plt.close()\n",
    "    y = y / sum(abs(y))\n",
    "    return x, y"
   ]
  },
  {
   "cell_type": "code",
   "execution_count": 6,
   "metadata": {},
   "outputs": [],
   "source": [
    "def get_x_y(data, N):\n",
    "    (y, x, _) = plt.hist(data, bins=N)\n",
    "    plt.close()\n",
    "    y = y / sum(abs(y))\n",
    "    return x, y"
   ]
  },
  {
   "cell_type": "code",
   "execution_count": 7,
   "metadata": {},
   "outputs": [],
   "source": [
    "def det_stable_distr_params(dataframe, columns):\n",
    "    alpha, beta = 1.0, 0.5\n",
    "    # use scipy's quantile estimator to estimate the parameters and convert to S parameterization\n",
    "    pconv = lambda alpha, beta, mu, sigma: (alpha, beta, mu, sigma)\n",
    "    return pconv(*levy_stable._fitstart(dataframe[columns]))\n"
   ]
  },
  {
   "cell_type": "code",
   "execution_count": 10,
   "metadata": {},
   "outputs": [],
   "source": [
    "# сохраняем файл с параметрами\n",
    "df = pd.DataFrame(columns = ['alpha', 'beta', 'mu', 'sigma'])\n",
    "for col in data.columns:\n",
    "    alpha, beta, mu, sigma = det_stable_distr_params(data, col)\n",
    "    dat = {'alpha':alpha, 'beta':beta, 'mu':mu, 'sigma':sigma}\n",
    "    df = df.append(dat, ignore_index=True)\n",
    "    \n",
    "df = df.rename(mapper={0: 'vkco', 1: 'tcs_il', 2: 'poly_il', 3: 'five_il'})\n",
    "df.to_csv('params_stable_distribution.csv', index=True)"
   ]
  },
  {
   "cell_type": "code",
   "execution_count": 14,
   "metadata": {
    "scrolled": false
   },
   "outputs": [],
   "source": [
    "def get_p_value(dataframe, columns):\n",
    "    pconv = lambda alpha, beta, mu, sigma: (alpha, beta, mu, sigma)\n",
    "    alpha, beta, _, _ = pconv(*levy_stable._fitstart(dataframe[columns]))\n",
    "    r = levy_stable.rvs(alpha, beta, size=100)\n",
    "\n",
    "    r0 = dataframe[columns]\n",
    "    print(stats.ks_2samp(r, r0)[1], stats.cramervonmises_2samp(r, r0).pvalue, stats.anderson_ksamp([r, r0]).significance_level)\n",
    "    return r"
   ]
  },
  {
   "cell_type": "code",
   "execution_count": 15,
   "metadata": {},
   "outputs": [
    {
     "name": "stderr",
     "output_type": "stream",
     "text": [
      "  0%|          | 0/100 [00:00<?, ?it/s]/tmp/ipykernel_3176/147231199.py:7: UserWarning: p-value floored: true value smaller than 0.001\n",
      "  print(stats.ks_2samp(r, r0)[1], stats.cramervonmises_2samp(r, r0).pvalue, stats.anderson_ksamp([r, r0]).significance_level)\n",
      " 33%|███▎      | 33/100 [00:00<00:00, 162.36it/s]"
     ]
    },
    {
     "name": "stdout",
     "output_type": "stream",
     "text": [
      "1.450194097180924e-20 5.358491428353318e-12 0.001\n",
      "1.8300389187602217e-18 6.818656750340324e-12 0.001\n",
      "2.5492227972383644e-22 5.095579513891835e-11 0.001\n",
      "6.731733238394106e-17 7.148962533065628e-10 0.001\n",
      "3.3600297010559235e-19 7.327572992821274e-10 0.001\n",
      "4.828270302225329e-17 6.510880723453738e-10 0.001\n",
      "1.5017573760200976e-15 4.1932490812968126e-10 0.001\n",
      "4.828270302225329e-17 6.7946759330084205e-12 0.001\n",
      "2.5870196807768313e-18 4.251821117406962e-12 0.001\n",
      "3.240727052680825e-16 3.740119325357227e-12 0.001\n",
      "3.240727052680825e-16 4.4433345891548015e-12 0.001\n",
      "1.450194097180924e-20 9.337752793214804e-12 0.001\n",
      "3.240727052680825e-16 3.895900269057506e-10 0.001\n",
      "6.731733238394106e-17 7.872115181939421e-10 0.001\n",
      "1.8300389187602217e-18 4.2555958756906875e-12 0.001\n",
      "4.6955294236021406e-17 7.346555586096315e-10 0.001\n",
      "1.8300389187602217e-18 5.697442517771378e-12 0.001\n",
      "3.4636902991101175e-17 6.671441177275028e-12 0.001\n",
      "4.864120455457044e-18 4.982791956820165e-12 0.001\n",
      "3.240727052680825e-16 4.0495828912412435e-10 0.001\n",
      "6.731733238394106e-17 6.706648569831941e-10 0.001\n",
      "1.8300389187602217e-18 7.425051684606387e-10 0.001\n",
      "1.2124697769380042e-26 6.444570432861951e-10 0.001\n",
      "2.7236982575274417e-15 3.965566763852735e-10 0.001\n",
      "2.6352420163024534e-15 4.5627790434821236e-10 0.001\n",
      "1.3455485980084997e-17 5.8542060088484504e-12 0.001\n",
      "7.839661943942776e-22 1.7089774040357497e-11 0.001\n",
      "9.583939863591212e-18 4.2909009678737675e-12 0.001\n",
      "1.450194097180924e-20 9.662715072522587e-12 0.001\n",
      "4.828270302225329e-17 6.044165168361815e-12 0.001\n",
      "1.6909485361553093e-16 4.881095527764501e-12 0.001\n",
      "3.240727052680825e-16 6.125766560671764e-12 0.001\n",
      "9.384958274686856e-19 5.434097616330291e-12 0.001\n"
     ]
    },
    {
     "name": "stderr",
     "output_type": "stream",
     "text": [
      " 78%|███████▊  | 78/100 [00:00<00:00, 197.14it/s]"
     ]
    },
    {
     "name": "stdout",
     "output_type": "stream",
     "text": [
      "4.828270302225329e-17 3.643730872582296e-10 0.001\n",
      "1.3455485980084997e-17 6.898039917047072e-10 0.001\n",
      "9.583939863591212e-18 4.330868996760273e-12 0.001\n",
      "2.6352420163024534e-15 4.0408398849223204e-10 0.001\n",
      "2.34087229204874e-16 3.9706027354924345e-10 0.001\n",
      "3.1358997072880546e-16 3.1999902727619656e-10 0.001\n",
      "1.6909485361553093e-16 3.724552888328958e-10 0.001\n",
      "2.5870196807768313e-18 6.4327432269806195e-12 0.001\n",
      "9.583939863591212e-18 5.1562087932666145e-12 0.001\n",
      "2.5870196807768313e-18 7.883061980962225e-10 0.001\n",
      "1.0926030063301462e-15 1.251971859517198e-10 0.001\n",
      "2.34087229204874e-16 6.678990693842479e-12 0.001\n",
      "4.994819123660584e-18 7.810752045145364e-12 0.001\n",
      "4.828270302225329e-17 3.862576924973382e-12 0.001\n",
      "1.8275994342495114e-17 3.970712647571872e-12 0.001\n",
      "6.731733238394106e-17 5.743516773293322e-12 0.001\n",
      "1.634284665030118e-21 1.1598277893654085e-11 0.001\n",
      "4.782499299083759e-19 1.1056822124544397e-11 0.001\n",
      "1.0047604366227962e-20 1.4003131987294637e-11 0.001\n",
      "6.701172878649601e-15 2.470803561749335e-10 0.001\n",
      "4.828270302225329e-17 8.050664579428712e-10 0.001\n",
      "6.617258193044535e-19 4.972244838086226e-12 0.001\n",
      "5.9287793789669e-20 1.0427436691884395e-11 0.001\n",
      "6.731733238394106e-17 5.894618126944806e-12 0.001\n",
      "4.994819123660584e-18 6.231982707660677e-10 0.001\n",
      "1.6577451932411926e-19 9.350298313393068e-12 0.001\n",
      "4.782499299083759e-19 6.812337360884158e-10 0.001\n",
      "3.240727052680825e-16 5.51436674101069e-12 0.001\n",
      "4.994819123660584e-18 5.208389275423997e-12 0.001\n",
      "6.731733238394106e-17 4.232281192173559e-12 0.001\n",
      "9.384958274686856e-19 5.883626919001017e-12 0.001\n",
      "4.3262283126120567e-16 4.391598196207269e-12 0.001\n",
      "1.1972441477008574e-14 3.087969879800312e-10 0.001\n",
      "5.9287793789669e-20 3.650746371874902e-12 0.001\n",
      "3.240727052680825e-16 3.554267991034976e-12 0.001\n",
      "4.828270302225329e-17 5.905355093815956e-10 0.001\n",
      "1.2590782438509235e-16 5.045290851768414e-10 0.001\n",
      "2.5870196807768313e-18 6.968481347513489e-10 0.001\n",
      "1.2590782438509235e-16 4.399545172617536e-10 0.001\n",
      "4.828270302225329e-17 3.803846126970711e-12 0.001\n",
      "2.0453868525294595e-20 1.146827077747048e-11 0.001\n",
      "6.731733238394106e-17 4.1254000215928954e-10 0.001\n",
      "6.667626782227782e-18 7.76512187883327e-12 0.001\n",
      "2.5566341271590862e-17 2.596972636936812e-10 0.001\n",
      "1.69516072437613e-19 3.9677150454053844e-12 0.001\n"
     ]
    },
    {
     "name": "stderr",
     "output_type": "stream",
     "text": [
      "100%|██████████| 100/100 [00:00<00:00, 186.03it/s]"
     ]
    },
    {
     "name": "stdout",
     "output_type": "stream",
     "text": [
      "2.34087229204874e-16 2.892225348105626e-10 0.001\n",
      "3.4636902991101175e-17 7.370883903234926e-10 0.001\n",
      "2.34087229204874e-16 4.216516025223882e-12 0.001\n",
      "2.376067644426603e-21 2.3788415681735842e-11 0.001\n",
      "1.8300389187602217e-18 6.339595515214569e-12 0.001\n",
      "1.0047604366227962e-20 9.849454585264539e-12 0.001\n",
      "2.34087229204874e-16 4.706124379083576e-12 0.001\n",
      "1.0926030063301462e-15 7.59681539896917e-10 0.001\n",
      "3.3600297010559235e-19 6.047469192083099e-10 0.001\n",
      "1.3455485980084997e-17 6.295630683439413e-12 0.001\n",
      "9.583939863591212e-18 6.574296662620327e-12 0.001\n",
      "7.453120991004627e-25 1.1694045731758251e-10 0.001\n",
      "6.524194295452586e-17 7.244760347191459e-12 0.001\n",
      "1.0926030063301462e-15 3.922823177404666e-10 0.001\n",
      "6.731733238394106e-17 4.667821684734008e-12 0.001\n",
      "9.583939863591212e-18 7.591371975479433e-12 0.001\n",
      "4.828270302225329e-17 3.628319866777474e-12 0.001\n",
      "3.3600297010559235e-19 5.4927173920304995e-12 0.001\n",
      "7.839661943942776e-22 1.723554632349078e-11 0.001\n",
      "2.9419159922115997e-20 2.4434565482067683e-11 0.001\n",
      "3.240727052680825e-16 7.316365291387683e-10 0.001\n",
      "9.063088247773244e-17 6.433132915262263e-10 0.001\n"
     ]
    },
    {
     "name": "stderr",
     "output_type": "stream",
     "text": [
      "\n"
     ]
    }
   ],
   "source": [
    "for i in tqdm(range(100)):\n",
    "    gen_data = get_p_value(data, 'log_return_poly_il')\n",
    "    "
   ]
  },
  {
   "cell_type": "code",
   "execution_count": 17,
   "metadata": {},
   "outputs": [
    {
     "data": {
      "image/png": "[encoded data removed]",
      "text/plain": [
       "<Figure size 640x480 with 1 Axes>"
      ]
     },
     "metadata": {},
     "output_type": "display_data"
    },
    {
     "data": {
      "text/plain": [
       "<AxesSubplot: >"
      ]
     },
     "execution_count": 17,
     "metadata": {},
     "output_type": "execute_result"
    },
    {
     "data": {
      "image/png": "[encoded data removed]",
      "text/plain": [
       "<Figure size 640x480 with 1 Axes>"
      ]
     },
     "metadata": {},
     "output_type": "display_data"
    }
   ],
   "source": [
    "pd.DataFrame(gen_data).hist(bins=30)\n",
    "plt.show()\n",
    "data['log_return_poly_il'].hist(bins=30)"
   ]
  }
 ],
 "metadata": {
  "kernelspec": {
   "display_name": "Python 3.10.7 64-bit",
   "language": "python",
   "name": "python3"
  },
  "language_info": {
   "codemirror_mode": {
    "name": "ipython",
    "version": 3
   },
   "file_extension": ".py",
   "mimetype": "text/x-python",
   "name": "python",
   "nbconvert_exporter": "python",
   "pygments_lexer": "ipython3",
   "version": "3.10.8"
  },
  "vscode": {
   "interpreter": {
    "hash": "767d51c1340bd893661ea55ea3124f6de3c7a262a8b4abca0554b478b1e2ff90"
   }
  }
 },
 "nbformat": 4,
 "nbformat_minor": 4
}
