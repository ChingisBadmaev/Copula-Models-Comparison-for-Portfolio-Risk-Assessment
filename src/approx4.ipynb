{
 "cells": [
  {
   "cell_type": "code",
   "execution_count": 1,
   "metadata": {},
   "outputs": [
    {
     "data": {
      "text/html": [
       "<div>\n",
       "<style scoped>\n",
       "    .dataframe tbody tr th:only-of-type {\n",
       "        vertical-align: middle;\n",
       "    }\n",
       "\n",
       "    .dataframe tbody tr th {\n",
       "        vertical-align: top;\n",
       "    }\n",
       "\n",
       "    .dataframe thead th {\n",
       "        text-align: right;\n",
       "    }\n",
       "</style>\n",
       "<table border=\"1\" class=\"dataframe\">\n",
       "  <thead>\n",
       "    <tr style=\"text-align: right;\">\n",
       "      <th></th>\n",
       "      <th>log_return_vkco</th>\n",
       "      <th>log_return_tcs_il</th>\n",
       "      <th>log_return_poly_il</th>\n",
       "      <th>log_return_five_il</th>\n",
       "    </tr>\n",
       "  </thead>\n",
       "  <tbody>\n",
       "    <tr>\n",
       "      <th>0</th>\n",
       "      <td>-0.012110</td>\n",
       "      <td>-0.004162</td>\n",
       "      <td>-0.003712</td>\n",
       "      <td>-0.013377</td>\n",
       "    </tr>\n",
       "    <tr>\n",
       "      <th>1</th>\n",
       "      <td>-0.035292</td>\n",
       "      <td>0.000000</td>\n",
       "      <td>-0.029352</td>\n",
       "      <td>-0.024070</td>\n",
       "    </tr>\n",
       "    <tr>\n",
       "      <th>2</th>\n",
       "      <td>0.011583</td>\n",
       "      <td>0.002083</td>\n",
       "      <td>-0.013279</td>\n",
       "      <td>0.007894</td>\n",
       "    </tr>\n",
       "    <tr>\n",
       "      <th>3</th>\n",
       "      <td>-0.006740</td>\n",
       "      <td>0.004154</td>\n",
       "      <td>0.025964</td>\n",
       "      <td>-0.002916</td>\n",
       "    </tr>\n",
       "    <tr>\n",
       "      <th>4</th>\n",
       "      <td>-0.009709</td>\n",
       "      <td>0.015425</td>\n",
       "      <td>-0.010984</td>\n",
       "      <td>-0.007034</td>\n",
       "    </tr>\n",
       "    <tr>\n",
       "      <th>...</th>\n",
       "      <td>...</td>\n",
       "      <td>...</td>\n",
       "      <td>...</td>\n",
       "      <td>...</td>\n",
       "    </tr>\n",
       "    <tr>\n",
       "      <th>248</th>\n",
       "      <td>-0.007648</td>\n",
       "      <td>0.018653</td>\n",
       "      <td>0.030041</td>\n",
       "      <td>0.010193</td>\n",
       "    </tr>\n",
       "    <tr>\n",
       "      <th>249</th>\n",
       "      <td>0.019012</td>\n",
       "      <td>0.044184</td>\n",
       "      <td>0.029452</td>\n",
       "      <td>-0.006216</td>\n",
       "    </tr>\n",
       "    <tr>\n",
       "      <th>250</th>\n",
       "      <td>0.018657</td>\n",
       "      <td>0.038540</td>\n",
       "      <td>0.008584</td>\n",
       "      <td>0.036732</td>\n",
       "    </tr>\n",
       "    <tr>\n",
       "      <th>251</th>\n",
       "      <td>0.046940</td>\n",
       "      <td>0.035287</td>\n",
       "      <td>0.042393</td>\n",
       "      <td>0.000000</td>\n",
       "    </tr>\n",
       "    <tr>\n",
       "      <th>252</th>\n",
       "      <td>0.020943</td>\n",
       "      <td>0.012693</td>\n",
       "      <td>0.028269</td>\n",
       "      <td>0.003818</td>\n",
       "    </tr>\n",
       "  </tbody>\n",
       "</table>\n",
       "<p>253 rows × 4 columns</p>\n",
       "</div>"
      ],
      "text/plain": [
       "     log_return_vkco  log_return_tcs_il  log_return_poly_il  \\\n",
       "0          -0.012110          -0.004162           -0.003712   \n",
       "1          -0.035292           0.000000           -0.029352   \n",
       "2           0.011583           0.002083           -0.013279   \n",
       "3          -0.006740           0.004154            0.025964   \n",
       "4          -0.009709           0.015425           -0.010984   \n",
       "..               ...                ...                 ...   \n",
       "248        -0.007648           0.018653            0.030041   \n",
       "249         0.019012           0.044184            0.029452   \n",
       "250         0.018657           0.038540            0.008584   \n",
       "251         0.046940           0.035287            0.042393   \n",
       "252         0.020943           0.012693            0.028269   \n",
       "\n",
       "     log_return_five_il  \n",
       "0             -0.013377  \n",
       "1             -0.024070  \n",
       "2              0.007894  \n",
       "3             -0.002916  \n",
       "4             -0.007034  \n",
       "..                  ...  \n",
       "248            0.010193  \n",
       "249           -0.006216  \n",
       "250            0.036732  \n",
       "251            0.000000  \n",
       "252            0.003818  \n",
       "\n",
       "[253 rows x 4 columns]"
      ]
     },
     "execution_count": 1,
     "metadata": {},
     "output_type": "execute_result"
    }
   ],
   "source": [
    "from numpy import array, exp \n",
    "import pandas as pd\n",
    "import numpy as np\n",
    "import matplotlib.pyplot as plt \n",
    "import openturns as ot\n",
    "from scipy.optimize import curve_fit \n",
    "from scipy.stats import genhyperbolic\n",
    "from scipy.stats import levy_stable\n",
    "from scipy.stats import norm\n",
    "from scipy.stats import cumfreq\n",
    "from scipy.stats import kstest\n",
    "from scipy.stats import ks_2samp\n",
    "from scipy.stats import cramervonmises_2samp\n",
    "from scipy.stats import anderson_ksamp\n",
    "\n",
    "dataset = pd.read_csv(\"../data/log_return_data.csv\")\n",
    "dataset"
   ]
  },
  {
   "cell_type": "code",
   "execution_count": 2,
   "metadata": {},
   "outputs": [],
   "source": [
    "#Делим интервал значений случ. вел на bins подинтервалов. Вычисляем количество попаданий в эти подинтервалы\n",
    "#Фактически имитируем набор данных для plot.hist()\n",
    "def get_intervals(dataframe, column, bins):\n",
    "    intervals = []\n",
    "    data = dataframe[column]\n",
    "    ln = len(data)\n",
    "    max_value = max(data)\n",
    "    min_value = min(data)\n",
    "    interval_length = (max_value - min_value)\n",
    "    for i in range(0, bins):\n",
    "        s = 0\n",
    "        a = min_value + (i)*interval_length/bins\n",
    "        b = min_value + (i+1)*interval_length/bins\n",
    "        for k in range(0, len(data)):\n",
    "            if (data[k]>= a and data[k]<b):\n",
    "                s = s + 1\n",
    "        #intervals.append(s/(ln-1))\n",
    "        intervals.append(s)\n",
    "    x_interavals = np.arange(min_value, max_value, abs(max_value- min_value)/bins)\n",
    "    return intervals, x_interavals, min_value, max_value\n"
   ]
  },
  {
   "cell_type": "code",
   "execution_count": 3,
   "metadata": {},
   "outputs": [],
   "source": [
    "def get_rvs_intervals(data, bins, x_data):\n",
    "    intervals = []\n",
    "    max_value = max(x_data)\n",
    "    min_value = min(x_data)\n",
    "    interval_length = (max_value - min_value)\n",
    "    for i in range(0, bins):\n",
    "        s = 0\n",
    "        a = min_value + (i)*interval_length/bins\n",
    "        b = min_value + (i+1)*interval_length/bins\n",
    "        for k in range(0, len(data)):\n",
    "            if (data[k]>= a and data[k]<b):\n",
    "                s = s + 1\n",
    "        intervals.append(s)\n",
    "    norm_intervals = [x/sum(intervals) for x in intervals]\n",
    "    return norm_intervals"
   ]
  },
  {
   "cell_type": "code",
   "execution_count": 4,
   "metadata": {},
   "outputs": [],
   "source": [
    "#Определяем приближающую функцию - Нормальное распределение\n",
    "def norm_mapping(values_x, a, b): \n",
    "    #return 1/(math.sqrt(2*math.pi)*b) * exp(-1/2*((values_x-a)/b)**2)\n",
    "    return norm.pdf(values_x,a,b)\n",
    "    "
   ]
  },
  {
   "cell_type": "code",
   "execution_count": 5,
   "metadata": {},
   "outputs": [],
   "source": [
    "#Определяем приближающую функцию - Гиперболическое распределение\n",
    "def hyper_mapping(values_x, p, a, b, mu, delta):\n",
    "    #genhyperbolic.pdf(x, p, a, b, loc, scale)  scale = delta, loc = mu, p = lambda, a = alpha delta, b = beta delta\n",
    "    if (a>b):\n",
    "        return genhyperbolic.pdf(values_x, p, a, b, mu, delta)\n",
    "    else:\n",
    "        return 0"
   ]
  },
  {
   "cell_type": "code",
   "execution_count": 6,
   "metadata": {},
   "outputs": [],
   "source": [
    "#Определяем приближающую функцию - Устойчивое распределение\n",
    "def stable_mapping(values_x, alpha, beta, gamma, mu):\n",
    "    return levy_stable.pdf(values_x, alpha, beta, gamma, mu)"
   ]
  },
  {
   "cell_type": "code",
   "execution_count": 7,
   "metadata": {},
   "outputs": [],
   "source": [
    "#Определяем приближающую функцию - Устойчивое распределение\n",
    "def stable_mapping(values_x, alpha, beta, gamma, mu):\n",
    "    return levy_stable.pdf(values_x, alpha, beta, gamma, mu)\n"
   ]
  },
  {
   "cell_type": "code",
   "execution_count": 8,
   "metadata": {},
   "outputs": [],
   "source": [
    "def test(x, a, b, c, d, e, f):\n",
    "    return a+b*x+c*x**2+d*x**3+e*x**4+f*x**5\n"
   ]
  },
  {
   "cell_type": "code",
   "execution_count": 9,
   "metadata": {},
   "outputs": [
    {
     "name": "stdout",
     "output_type": "stream",
     "text": [
      "log_return_five_il\n"
     ]
    }
   ],
   "source": [
    "#Читаем файл с данными\n",
    "dataset = pd.read_csv(\"../data/log_return_data.csv\")\n",
    "\n",
    "#Выполняем обработку исходных данных\n",
    "bins = 25\n",
    "compName = 'log_return_five_il' #'log_return_five_il' log_return_vkco\tlog_return_tcs_il\tlog_return_poly_il gazpr_futures\n",
    "print(compName)\n",
    "readData = get_intervals(dataset, compName, bins)  \n",
    "y_data, x_data, min_value, max_value = readData[0], readData[1], readData[2], readData[3]\n",
    "x_fit = np.arange(min_value, max_value, abs(max_value- min_value)/400)\n",
    "y_data1 = [x/sum(y_data) for x in y_data]\n",
    "\n",
    "#Строим эмпирическую функцию распределения\n",
    "emp_data = cumfreq(dataset[compName], numbins=bins, defaultreallimits=None, weights=None)\n"
   ]
  },
  {
   "cell_type": "code",
   "execution_count": 10,
   "metadata": {},
   "outputs": [],
   "source": [
    "def get_emp_data(dataframe, columns, bins):\n",
    "    #Выполняем обработку исходных данных\n",
    "    readData = get_intervals(dataset, columns, bins)  \n",
    "    y_data, x_data, min_value, max_value = readData[0], readData[1], readData[2], readData[3]\n",
    "    x_fit = np.arange(min_value, max_value, abs(max_value- min_value)/400)\n",
    "    y_data1 = [x/sum(y_data) for x in y_data]\n",
    "\n",
    "    #Строим эмпирическую функцию распределения\n",
    "    emp_data = cumfreq(dataset[columns], numbins=bins, defaultreallimits=None, weights=None)\n",
    "    return emp_data, y_data1, x_fit, x_data, y_data\n"
   ]
  },
  {
   "cell_type": "code",
   "execution_count": 11,
   "metadata": {},
   "outputs": [],
   "source": [
    "def closer_finding_functions_hyperbolic(x_data, y_data, data, column):\n",
    "    #Производим приближение - Гиперболическое распределение\n",
    "    params, _  = curve_fit(hyper_mapping, x_data, y_data) \n",
    "    p, a, b, mu, delta = params[0], params[1], params[2], params[3], params[4]\n",
    "    y_fit = genhyperbolic.pdf(x_fit, p, a, b, mu, delta) \n",
    "    \n",
    "    #Считаем pvalue - Гиперболическое распределение\n",
    "    r = genhyperbolic.rvs(p, a, b, mu, delta, size=1000, random_state=None)\n",
    "    #Выполняем нормировку набора случайных величин\n",
    "    norm_rvs_data = get_rvs_intervals(r, bins, x_data)\n",
    "    norm_rvs_data1 = [x/sum(norm_rvs_data) for x in norm_rvs_data]\n",
    "\n",
    "    return params, r, y_fit, norm_rvs_data"
   ]
  },
  {
   "cell_type": "code",
   "execution_count": 12,
   "metadata": {},
   "outputs": [],
   "source": [
    "#Производим приближение - Устойчивое распределение\n",
    "def closer_finding_functions_stable(x_data, y_data):\n",
    "    \n",
    "    params, _  = curve_fit(stable_mapping, x_data, y_data, bounds=([1.0001, -1., -1., 0.],[2, 1., 6., 6.])) \n",
    "    # args, _  = curve_fit(stable_mapping, x_data, y_data) \n",
    "    alpha, beta , gamma, mu = params[0], params[1], params[2], params[3]\n",
    "    y_fit = levy_stable.pdf(x_fit, alpha, beta, gamma, mu)\n",
    "\n",
    "    #Считаем pvalue - Устойчивое распределение\n",
    "    r = levy_stable.rvs(alpha, beta, gamma, mu, size=1000, random_state=None)\n",
    "    #Выполняем нормировку набора случайных величин\n",
    "    norm_rvs_data = get_rvs_intervals(r, bins, x_data)\n",
    "    norm_rvs_data = [x/sum(norm_rvs_data) for x in norm_rvs_data]\n",
    "    return params, r, y_fit, norm_rvs_data\n"
   ]
  },
  {
   "cell_type": "code",
   "execution_count": 13,
   "metadata": {},
   "outputs": [],
   "source": [
    "#Производим приближение - Устойчивое распределение\n",
    "def closer_finding_functions_stable(x_data, data, columns):\n",
    "    params = levy_stable._fitstart(data[columns])\n",
    "    alpha, beta , gamma, mu = params[0], params[1], params[2], params[3]\n",
    "\n",
    "    y_fit = levy_stable.pdf(x_fit, alpha, beta, gamma, mu)\n",
    "\n",
    "    #Считаем pvalue - Устойчивое распределение\n",
    "    r = levy_stable.rvs(alpha, beta, gamma, mu, size=252, random_state=None)\n",
    "\n",
    "    #Выполняем нормировку набора случайных величин\n",
    "    norm_rvs_data = get_rvs_intervals(r, bins, x_data)\n",
    "    return params, r, y_fit, norm_rvs_data"
   ]
  },
  {
   "cell_type": "code",
   "execution_count": 14,
   "metadata": {},
   "outputs": [],
   "source": [
    "def closer_finding_functions_meixner(x_data, data, columns):\n",
    "    # #Производим приближение - Распределение Мейснера\n",
    "    data1 = [[i] for i in data[columns]]\n",
    "    sample = ot.Sample(data1)\n",
    "    ot.ResourceMap.SetAsUnsignedInteger('DistributionFactory-DefaultBootstrapSize', 253)\n",
    "    fittedRes = ot.MeixnerDistributionFactory().build(sample)\n",
    "    params = fittedRes.getParameter()\n",
    "    alpha, beta , gamma, delta = params[0], params[1], params[2], params[3]\n",
    "    distribution = ot.MeixnerDistribution(alpha, beta , gamma, delta)\n",
    "    y_fit = []\n",
    "    for x in x_fit:\n",
    "        y_fit.append(distribution.computePDF(x))\n",
    "    \n",
    "    sample = ot.MeixnerDistribution(alpha, beta, gamma, delta).getSample(253)\n",
    "    r = sample.asPoint()\n",
    "    norm_rvs_data = get_rvs_intervals(r, bins, x_data)\n",
    "\n",
    "    return params, distribution, y_fit, norm_rvs_data"
   ]
  },
  {
   "cell_type": "markdown",
   "metadata": {},
   "source": [
    "### Гиперболическое распределение"
   ]
  },
  {
   "cell_type": "code",
   "execution_count": 15,
   "metadata": {},
   "outputs": [
    {
     "name": "stderr",
     "output_type": "stream",
     "text": [
      "/tmp/ipykernel_4843/3717015333.py:11: UserWarning: p-value floored: true value smaller than 0.001\n",
      "  p_value_hyperbolic_anderson.append(anderson_ksamp([norm_rvs_hyperbolic, y_data1]).significance_level)\n"
     ]
    },
    {
     "data": {
      "text/html": [
       "<div>\n",
       "<style scoped>\n",
       "    .dataframe tbody tr th:only-of-type {\n",
       "        vertical-align: middle;\n",
       "    }\n",
       "\n",
       "    .dataframe tbody tr th {\n",
       "        vertical-align: top;\n",
       "    }\n",
       "\n",
       "    .dataframe thead th {\n",
       "        text-align: right;\n",
       "    }\n",
       "</style>\n",
       "<table border=\"1\" class=\"dataframe\">\n",
       "  <thead>\n",
       "    <tr style=\"text-align: right;\">\n",
       "      <th></th>\n",
       "      <th>ks_test</th>\n",
       "      <th>anderson</th>\n",
       "      <th>cramervonmises</th>\n",
       "    </tr>\n",
       "  </thead>\n",
       "  <tbody>\n",
       "    <tr>\n",
       "      <th>log_return_vkco</th>\n",
       "      <td>0.000082</td>\n",
       "      <td>0.001</td>\n",
       "      <td>3.578355e-06</td>\n",
       "    </tr>\n",
       "    <tr>\n",
       "      <th>log_return_tcs_il</th>\n",
       "      <td>0.000850</td>\n",
       "      <td>0.001</td>\n",
       "      <td>1.168740e-06</td>\n",
       "    </tr>\n",
       "    <tr>\n",
       "      <th>log_return_poly_il</th>\n",
       "      <td>0.002353</td>\n",
       "      <td>0.001</td>\n",
       "      <td>7.488400e-06</td>\n",
       "    </tr>\n",
       "    <tr>\n",
       "      <th>log_return_five_il</th>\n",
       "      <td>0.000125</td>\n",
       "      <td>0.001</td>\n",
       "      <td>3.844349e-07</td>\n",
       "    </tr>\n",
       "  </tbody>\n",
       "</table>\n",
       "</div>"
      ],
      "text/plain": [
       "                     ks_test  anderson  cramervonmises\n",
       "log_return_vkco     0.000082     0.001    3.578355e-06\n",
       "log_return_tcs_il   0.000850     0.001    1.168740e-06\n",
       "log_return_poly_il  0.002353     0.001    7.488400e-06\n",
       "log_return_five_il  0.000125     0.001    3.844349e-07"
      ]
     },
     "execution_count": 15,
     "metadata": {},
     "output_type": "execute_result"
    }
   ],
   "source": [
    "p_value_hyperbolic_kstest = []\n",
    "p_value_hyperbolic_cramervonmises = []\n",
    "p_value_hyperbolic_anderson = []\n",
    "\n",
    "for column in dataset.columns:\n",
    "    emp_data, y_data1, x_fit, x_data, y_data = get_emp_data(dataset, column, 15)\n",
    "    params_hyperbolic, hyperbolic_distribution, y_fit_hyperbolic, norm_rvs_hyperbolic = closer_finding_functions_hyperbolic(x_data, y_data, dataset, column) \n",
    "    p, a, b, mu, delta = params_hyperbolic[0], params_hyperbolic[1], params_hyperbolic[2], params_hyperbolic[3], params_hyperbolic[4]\n",
    "    p_value_hyperbolic_kstest.append(ks_2samp(norm_rvs_hyperbolic, y_data1, alternative='two-sided', method='auto')[1])\n",
    "    p_value_hyperbolic_cramervonmises.append(cramervonmises_2samp(norm_rvs_hyperbolic, y_data1, method='auto').pvalue)\n",
    "    p_value_hyperbolic_anderson.append(anderson_ksamp([norm_rvs_hyperbolic, y_data1]).significance_level)\n",
    "\n",
    "\n",
    "p_value_hyperbolic = pd.DataFrame(data={'ks_test': p_value_hyperbolic_kstest, 'anderson': p_value_hyperbolic_anderson, 'cramervonmises': p_value_hyperbolic_cramervonmises},\n",
    "                    index=dataset.columns)\n",
    "\n",
    "p_value_hyperbolic.to_csv('../p_value/p_value_hyperbolic.csv', index=True)\n",
    "p_value_hyperbolic"
   ]
  },
  {
   "cell_type": "markdown",
   "metadata": {},
   "source": [
    "### Stable распределение"
   ]
  },
  {
   "cell_type": "code",
   "execution_count": 16,
   "metadata": {},
   "outputs": [
    {
     "name": "stderr",
     "output_type": "stream",
     "text": [
      "/tmp/ipykernel_4843/3362285898.py:10: UserWarning: p-value capped: true value larger than 0.25\n",
      "  p_value_stable_anderson.append(anderson_ksamp([norm_rvs_stable, y_data1]).significance_level)\n"
     ]
    },
    {
     "data": {
      "text/html": [
       "<div>\n",
       "<style scoped>\n",
       "    .dataframe tbody tr th:only-of-type {\n",
       "        vertical-align: middle;\n",
       "    }\n",
       "\n",
       "    .dataframe tbody tr th {\n",
       "        vertical-align: top;\n",
       "    }\n",
       "\n",
       "    .dataframe thead th {\n",
       "        text-align: right;\n",
       "    }\n",
       "</style>\n",
       "<table border=\"1\" class=\"dataframe\">\n",
       "  <thead>\n",
       "    <tr style=\"text-align: right;\">\n",
       "      <th></th>\n",
       "      <th>ks_test</th>\n",
       "      <th>anderson</th>\n",
       "      <th>cramervonmises</th>\n",
       "    </tr>\n",
       "  </thead>\n",
       "  <tbody>\n",
       "    <tr>\n",
       "      <th>log_return_vkco</th>\n",
       "      <td>0.650607</td>\n",
       "      <td>0.250000</td>\n",
       "      <td>0.486867</td>\n",
       "    </tr>\n",
       "    <tr>\n",
       "      <th>log_return_tcs_il</th>\n",
       "      <td>0.944728</td>\n",
       "      <td>0.250000</td>\n",
       "      <td>0.525631</td>\n",
       "    </tr>\n",
       "    <tr>\n",
       "      <th>log_return_poly_il</th>\n",
       "      <td>0.944728</td>\n",
       "      <td>0.250000</td>\n",
       "      <td>0.465220</td>\n",
       "    </tr>\n",
       "    <tr>\n",
       "      <th>log_return_five_il</th>\n",
       "      <td>0.393572</td>\n",
       "      <td>0.173045</td>\n",
       "      <td>0.103757</td>\n",
       "    </tr>\n",
       "  </tbody>\n",
       "</table>\n",
       "</div>"
      ],
      "text/plain": [
       "                     ks_test  anderson  cramervonmises\n",
       "log_return_vkco     0.650607  0.250000        0.486867\n",
       "log_return_tcs_il   0.944728  0.250000        0.525631\n",
       "log_return_poly_il  0.944728  0.250000        0.465220\n",
       "log_return_five_il  0.393572  0.173045        0.103757"
      ]
     },
     "execution_count": 16,
     "metadata": {},
     "output_type": "execute_result"
    }
   ],
   "source": [
    "p_value_stable_kstest = []\n",
    "p_value_stable_cramervonmises = []\n",
    "p_value_stable_anderson = []\n",
    "\n",
    "for column in dataset.columns:\n",
    "    params_stable, stable_distribution, y_fit_stable, norm_rvs_stable = closer_finding_functions_stable(x_data, dataset, column) \n",
    "    alpha, beta, gamma, delta = params_stable[0], params_stable[1], params_stable[2], params_stable[3],\n",
    "    p_value_stable_kstest.append(ks_2samp(norm_rvs_stable, y_data1, alternative='two-sided', method='auto')[1])\n",
    "    p_value_stable_cramervonmises.append(cramervonmises_2samp(norm_rvs_stable, y_data1, method='auto').pvalue)\n",
    "    p_value_stable_anderson.append(anderson_ksamp([norm_rvs_stable, y_data1]).significance_level)\n",
    "\n",
    "\n",
    "p_value_stable = pd.DataFrame(data={'ks_test': p_value_stable_kstest, 'anderson': p_value_stable_anderson, 'cramervonmises': p_value_stable_cramervonmises,},\n",
    "                    index=dataset.columns)\n",
    "p_value_stable.to_csv('../p_value/p_value_stable.csv', index=True)\n",
    "p_value_stable\n"
   ]
  },
  {
   "cell_type": "markdown",
   "metadata": {},
   "source": [
    "### Распределение Мейкснера"
   ]
  },
  {
   "cell_type": "code",
   "execution_count": 17,
   "metadata": {},
   "outputs": [
    {
     "name": "stderr",
     "output_type": "stream",
     "text": [
      "/tmp/ipykernel_4843/2936124394.py:10: UserWarning: p-value capped: true value larger than 0.25\n",
      "  p_value_meixner_anderson.append(anderson_ksamp([norm_rvs_meixner, y_data1]).significance_level)\n"
     ]
    },
    {
     "data": {
      "text/html": [
       "<div>\n",
       "<style scoped>\n",
       "    .dataframe tbody tr th:only-of-type {\n",
       "        vertical-align: middle;\n",
       "    }\n",
       "\n",
       "    .dataframe tbody tr th {\n",
       "        vertical-align: top;\n",
       "    }\n",
       "\n",
       "    .dataframe thead th {\n",
       "        text-align: right;\n",
       "    }\n",
       "</style>\n",
       "<table border=\"1\" class=\"dataframe\">\n",
       "  <thead>\n",
       "    <tr style=\"text-align: right;\">\n",
       "      <th></th>\n",
       "      <th>ks_test</th>\n",
       "      <th>anderson</th>\n",
       "      <th>cramervonmises</th>\n",
       "    </tr>\n",
       "  </thead>\n",
       "  <tbody>\n",
       "    <tr>\n",
       "      <th>log_return_vkco</th>\n",
       "      <td>0.286104</td>\n",
       "      <td>0.25</td>\n",
       "      <td>0.259682</td>\n",
       "    </tr>\n",
       "    <tr>\n",
       "      <th>log_return_tcs_il</th>\n",
       "      <td>0.989103</td>\n",
       "      <td>0.25</td>\n",
       "      <td>0.674630</td>\n",
       "    </tr>\n",
       "    <tr>\n",
       "      <th>log_return_poly_il</th>\n",
       "      <td>0.944728</td>\n",
       "      <td>0.25</td>\n",
       "      <td>0.405749</td>\n",
       "    </tr>\n",
       "    <tr>\n",
       "      <th>log_return_five_il</th>\n",
       "      <td>0.944728</td>\n",
       "      <td>0.25</td>\n",
       "      <td>0.445311</td>\n",
       "    </tr>\n",
       "  </tbody>\n",
       "</table>\n",
       "</div>"
      ],
      "text/plain": [
       "                     ks_test  anderson  cramervonmises\n",
       "log_return_vkco     0.286104      0.25        0.259682\n",
       "log_return_tcs_il   0.989103      0.25        0.674630\n",
       "log_return_poly_il  0.944728      0.25        0.405749\n",
       "log_return_five_il  0.944728      0.25        0.445311"
      ]
     },
     "execution_count": 17,
     "metadata": {},
     "output_type": "execute_result"
    }
   ],
   "source": [
    "p_value_meixner_kstest = []\n",
    "p_value_meixner_cramervonmises = []\n",
    "p_value_meixner_anderson = []\n",
    "\n",
    "for column in dataset.columns:\n",
    "    params_meixner, meixner_distribution, y_fit_meixner, norm_rvs_meixner = closer_finding_functions_meixner(x_data, dataset, column) \n",
    "    alpha, beta, gamma, delta = params_meixner[0], params_meixner[1], params_meixner[2], params_meixner[3],\n",
    "    p_value_meixner_kstest.append(ks_2samp(norm_rvs_meixner, y_data1, alternative='two-sided', method='auto')[1])\n",
    "    p_value_meixner_cramervonmises.append(cramervonmises_2samp(norm_rvs_meixner, y_data1, method='auto').pvalue)\n",
    "    p_value_meixner_anderson.append(anderson_ksamp([norm_rvs_meixner, y_data1]).significance_level)\n",
    "\n",
    "\n",
    "p_value_meixner = pd.DataFrame(data={'ks_test': p_value_meixner_kstest, 'anderson': p_value_meixner_anderson, 'cramervonmises': p_value_meixner_cramervonmises,},\n",
    "                    index=dataset.columns)\n",
    "p_value_meixner.to_csv('../p_value/p_value_meixner.csv', index=True)\n",
    "p_value_meixner"
   ]
  },
  {
   "cell_type": "code",
   "execution_count": null,
   "metadata": {},
   "outputs": [],
   "source": []
  }
 ],
 "metadata": {
  "kernelspec": {
   "display_name": "Python 3.10.7 64-bit",
   "language": "python",
   "name": "python3"
  },
  "language_info": {
   "codemirror_mode": {
    "name": "ipython",
    "version": 3
   },
   "file_extension": ".py",
   "mimetype": "text/x-python",
   "name": "python",
   "nbconvert_exporter": "python",
   "pygments_lexer": "ipython3",
   "version": "3.10.8"
  },
  "orig_nbformat": 4,
  "vscode": {
   "interpreter": {
    "hash": "e7370f93d1d0cde622a1f8e1c04877d8463912d04d973331ad4851f04de6915a"
   }
  }
 },
 "nbformat": 4,
 "nbformat_minor": 2
}
