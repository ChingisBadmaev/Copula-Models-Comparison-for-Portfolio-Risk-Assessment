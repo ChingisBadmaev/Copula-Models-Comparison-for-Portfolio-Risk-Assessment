{
 "cells": [
  {
   "cell_type": "code",
   "execution_count": 1,
   "metadata": {},
   "outputs": [],
   "source": [
    "import pandas as pd\n",
    "import numpy as np\n",
    "import scipy.stats\n",
    "import matplotlib.pyplot as plt\n",
    "import seaborn as sns\n",
    "from scipy.stats import levy_stable\n",
    "from scipy import stats\n",
    "from collections import Counter\n",
    "import math"
   ]
  },
  {
   "cell_type": "code",
   "execution_count": 2,
   "metadata": {
    "scrolled": true
   },
   "outputs": [
    {
     "data": {
      "text/html": [
       "<div>\n",
       "<style scoped>\n",
       "    .dataframe tbody tr th:only-of-type {\n",
       "        vertical-align: middle;\n",
       "    }\n",
       "\n",
       "    .dataframe tbody tr th {\n",
       "        vertical-align: top;\n",
       "    }\n",
       "\n",
       "    .dataframe thead th {\n",
       "        text-align: right;\n",
       "    }\n",
       "</style>\n",
       "<table border=\"1\" class=\"dataframe\">\n",
       "  <thead>\n",
       "    <tr style=\"text-align: right;\">\n",
       "      <th></th>\n",
       "      <th>log_return_vkco</th>\n",
       "      <th>log_return_tcs_il</th>\n",
       "      <th>log_return_poly_il</th>\n",
       "      <th>log_return_five_il</th>\n",
       "    </tr>\n",
       "  </thead>\n",
       "  <tbody>\n",
       "    <tr>\n",
       "      <th>0</th>\n",
       "      <td>-0.013268</td>\n",
       "      <td>-0.005606</td>\n",
       "      <td>-0.005446</td>\n",
       "      <td>-0.013527</td>\n",
       "    </tr>\n",
       "    <tr>\n",
       "      <th>1</th>\n",
       "      <td>-0.036450</td>\n",
       "      <td>-0.001443</td>\n",
       "      <td>-0.031087</td>\n",
       "      <td>-0.024220</td>\n",
       "    </tr>\n",
       "    <tr>\n",
       "      <th>2</th>\n",
       "      <td>0.010426</td>\n",
       "      <td>0.000640</td>\n",
       "      <td>-0.015014</td>\n",
       "      <td>0.007743</td>\n",
       "    </tr>\n",
       "    <tr>\n",
       "      <th>3</th>\n",
       "      <td>-0.007898</td>\n",
       "      <td>0.002710</td>\n",
       "      <td>0.024230</td>\n",
       "      <td>-0.003066</td>\n",
       "    </tr>\n",
       "    <tr>\n",
       "      <th>4</th>\n",
       "      <td>-0.010866</td>\n",
       "      <td>0.013981</td>\n",
       "      <td>-0.012719</td>\n",
       "      <td>-0.007184</td>\n",
       "    </tr>\n",
       "    <tr>\n",
       "      <th>...</th>\n",
       "      <td>...</td>\n",
       "      <td>...</td>\n",
       "      <td>...</td>\n",
       "      <td>...</td>\n",
       "    </tr>\n",
       "    <tr>\n",
       "      <th>248</th>\n",
       "      <td>-0.008806</td>\n",
       "      <td>0.017210</td>\n",
       "      <td>0.028307</td>\n",
       "      <td>0.010042</td>\n",
       "    </tr>\n",
       "    <tr>\n",
       "      <th>249</th>\n",
       "      <td>0.017854</td>\n",
       "      <td>0.042740</td>\n",
       "      <td>0.027718</td>\n",
       "      <td>-0.006367</td>\n",
       "    </tr>\n",
       "    <tr>\n",
       "      <th>250</th>\n",
       "      <td>0.017500</td>\n",
       "      <td>0.037097</td>\n",
       "      <td>0.006849</td>\n",
       "      <td>0.036582</td>\n",
       "    </tr>\n",
       "    <tr>\n",
       "      <th>251</th>\n",
       "      <td>0.045782</td>\n",
       "      <td>0.033843</td>\n",
       "      <td>0.040659</td>\n",
       "      <td>-0.000150</td>\n",
       "    </tr>\n",
       "    <tr>\n",
       "      <th>252</th>\n",
       "      <td>0.019786</td>\n",
       "      <td>0.011249</td>\n",
       "      <td>0.026535</td>\n",
       "      <td>0.003668</td>\n",
       "    </tr>\n",
       "  </tbody>\n",
       "</table>\n",
       "<p>253 rows × 4 columns</p>\n",
       "</div>"
      ],
      "text/plain": [
       "     log_return_vkco  log_return_tcs_il  log_return_poly_il  \\\n",
       "0          -0.013268          -0.005606           -0.005446   \n",
       "1          -0.036450          -0.001443           -0.031087   \n",
       "2           0.010426           0.000640           -0.015014   \n",
       "3          -0.007898           0.002710            0.024230   \n",
       "4          -0.010866           0.013981           -0.012719   \n",
       "..               ...                ...                 ...   \n",
       "248        -0.008806           0.017210            0.028307   \n",
       "249         0.017854           0.042740            0.027718   \n",
       "250         0.017500           0.037097            0.006849   \n",
       "251         0.045782           0.033843            0.040659   \n",
       "252         0.019786           0.011249            0.026535   \n",
       "\n",
       "     log_return_five_il  \n",
       "0             -0.013527  \n",
       "1             -0.024220  \n",
       "2              0.007743  \n",
       "3             -0.003066  \n",
       "4             -0.007184  \n",
       "..                  ...  \n",
       "248            0.010042  \n",
       "249           -0.006367  \n",
       "250            0.036582  \n",
       "251           -0.000150  \n",
       "252            0.003668  \n",
       "\n",
       "[253 rows x 4 columns]"
      ]
     },
     "execution_count": 2,
     "metadata": {},
     "output_type": "execute_result"
    }
   ],
   "source": [
    "data = pd.read_csv('log_return_data.csv')\n",
    "data\n"
   ]
  },
  {
   "cell_type": "markdown",
   "metadata": {},
   "source": [
    "### Для нахождения параметров воспользуемся формулой:  \n",
    "### $ ln(-ln(\\phi^2(|t|))) = ln(2\\sigma^2) + \\alpha ln(|t|),$ где $\\phi$ — характерестическая функция распределения "
   ]
  },
  {
   "cell_type": "code",
   "execution_count": 3,
   "metadata": {},
   "outputs": [],
   "source": [
    "def charact_distr_func(t, dataframe, name, N):\n",
    "    (y, x, _) = plt.hist(dataframe[name], bins=N)\n",
    "    plt.close()\n",
    "    x = x[:-1] - 1 # сдвигаю х на -1\n",
    "    y = y / 253\n",
    "    answer = 0\n",
    "    for i in range(len(x)):\n",
    "        id = complex(1, t * x[i])\n",
    "        answer += math.exp(id.imag) * y[i]\n",
    "    return answer"
   ]
  },
  {
   "cell_type": "code",
   "execution_count": 4,
   "metadata": {},
   "outputs": [],
   "source": [
    "def get_log_log(t, dataframe, name, N):\n",
    "    a = abs(charact_distr_func(t, data, name, N))\n",
    "    return np.log(-np.log(a ** 2))"
   ]
  },
  {
   "cell_type": "code",
   "execution_count": 5,
   "metadata": {
    "scrolled": false
   },
   "outputs": [
    {
     "data": {
      "text/plain": [
       "<matplotlib.collections.PathCollection at 0x25789b583d0>"
      ]
     },
     "execution_count": 5,
     "metadata": {},
     "output_type": "execute_result"
    },
    {
     "data": {
      "image/png": "[encoded data removed]",
      "text/plain": [
       "<Figure size 432x288 with 1 Axes>"
      ]
     },
     "metadata": {
      "needs_background": "light"
     },
     "output_type": "display_data"
    }
   ],
   "source": [
    "mass_x = np.array([])\n",
    "mass_y = np.array([])\n",
    "\n",
    "# функцию для отрицательных аргументов можно не рассматривать \n",
    "xx = np.arange(0.1, 20.0, 0.05)\n",
    "for i in xx:\n",
    "    mass_x = np.append(mass_x, i)\n",
    "    mass_y = np.append(mass_y, get_log_log(i, data, 'log_return_vkco', 50))\n",
    "    #mass_x.append(i)\n",
    "    #mass_y.append(get_log_log(i, data, 'log_return_vkco', 50))\n",
    "plt.scatter(mass_x, mass_y)"
   ]
  },
  {
   "cell_type": "code",
   "execution_count": 6,
   "metadata": {},
   "outputs": [
    {
     "data": {
      "text/plain": [
       "<matplotlib.collections.PathCollection at 0x25789c39460>"
      ]
     },
     "execution_count": 6,
     "metadata": {},
     "output_type": "execute_result"
    },
    {
     "data": {
      "image/png": "[encoded data removed]",
      "text/plain": [
       "<Figure size 432x288 with 1 Axes>"
      ]
     },
     "metadata": {
      "needs_background": "light"
     },
     "output_type": "display_data"
    }
   ],
   "source": [
    "log_mass_x = np.log(mass_x)\n",
    "plt.scatter(log_mass_x, mass_y)"
   ]
  },
  {
   "cell_type": "code",
   "execution_count": 8,
   "metadata": {},
   "outputs": [],
   "source": [
    "N = 50\n",
    "log_mass_x = np.log(mass_x)\n",
    "mx = sum(log_mass_x) / N\n",
    "my = sum(mass_y) / N\n",
    "a2 = np.dot(log_mass_x.T, log_mass_x) / N\n",
    "a11 = np.dot(log_mass_x.T, mass_y) / N\n",
    "alpha = (a11 - mx * my) / (a2 - mx ** 2)\n",
    "sigma_2 = my - alpha * mx\n"
   ]
  },
  {
   "cell_type": "code",
   "execution_count": 9,
   "metadata": {},
   "outputs": [
    {
     "data": {
      "text/plain": [
       "1.3541204938379943"
      ]
     },
     "execution_count": 9,
     "metadata": {},
     "output_type": "execute_result"
    }
   ],
   "source": [
    "alpha"
   ]
  },
  {
   "cell_type": "code",
   "execution_count": 10,
   "metadata": {
    "scrolled": true
   },
   "outputs": [
    {
     "data": {
      "text/plain": [
       "0.6468201338375316"
      ]
     },
     "execution_count": 10,
     "metadata": {},
     "output_type": "execute_result"
    }
   ],
   "source": [
    "beta = math.sqrt(math.exp(sigma_2) / 2)\n",
    "beta"
   ]
  },
  {
   "cell_type": "markdown",
   "metadata": {},
   "source": [
    "### Проверяем, насколько данные параметры подходят"
   ]
  },
  {
   "cell_type": "code",
   "execution_count": 11,
   "metadata": {},
   "outputs": [],
   "source": [
    "mean, var, skew, kurt = levy_stable.stats(alpha, beta, moments='mvsk')"
   ]
  },
  {
   "cell_type": "code",
   "execution_count": 12,
   "metadata": {},
   "outputs": [
    {
     "data": {
      "text/plain": [
       "[<matplotlib.lines.Line2D at 0x25789d96400>]"
      ]
     },
     "execution_count": 12,
     "metadata": {},
     "output_type": "execute_result"
    },
    {
     "data": {
      "image/png": "[encoded data removed]",
      "text/plain": [
       "<Figure size 432x288 with 1 Axes>"
      ]
     },
     "metadata": {
      "needs_background": "light"
     },
     "output_type": "display_data"
    }
   ],
   "source": [
    "from scipy.stats import levy_stable\n",
    "import matplotlib.pyplot as plt\n",
    "fig, ax = plt.subplots(1, 1)\n",
    "\n",
    "\n",
    "x = np.linspace(levy_stable.ppf(0.01, alpha, beta), levy_stable.ppf(0.99, alpha, beta), 100)\n",
    "ax.plot(x, levy_stable.pdf(x, alpha, beta), 'r-', lw=5, alpha=0.6, label='levy_stable pdf')"
   ]
  },
  {
   "cell_type": "code",
   "execution_count": 13,
   "metadata": {},
   "outputs": [
    {
     "data": {
      "text/plain": [
       "[<matplotlib.lines.Line2D at 0x25789dada60>]"
      ]
     },
     "execution_count": 13,
     "metadata": {},
     "output_type": "execute_result"
    }
   ],
   "source": [
    "rv = levy_stable(alpha, beta)\n",
    "ax.plot(x, rv.pdf(x), 'k-', lw=2, label='frozen pdf')"
   ]
  },
  {
   "cell_type": "code",
   "execution_count": 14,
   "metadata": {},
   "outputs": [
    {
     "data": {
      "text/plain": [
       "True"
      ]
     },
     "execution_count": 14,
     "metadata": {},
     "output_type": "execute_result"
    }
   ],
   "source": [
    "vals = levy_stable.ppf([0.001, 0.5, 0.999], alpha, beta)\n",
    "np.allclose([0.001, 0.5, 0.999], levy_stable.cdf(vals, alpha, beta))"
   ]
  },
  {
   "cell_type": "code",
   "execution_count": 15,
   "metadata": {},
   "outputs": [],
   "source": [
    "r = levy_stable.rvs(alpha, beta, size=100)"
   ]
  },
  {
   "cell_type": "code",
   "execution_count": 16,
   "metadata": {
    "scrolled": true
   },
   "outputs": [
    {
     "data": {
      "image/png": "[encoded data removed]",
      "text/plain": [
       "<Figure size 432x288 with 1 Axes>"
      ]
     },
     "metadata": {
      "needs_background": "light"
     },
     "output_type": "display_data"
    }
   ],
   "source": [
    "\n",
    "plt.hist(r, bins=15)\n",
    "ax.legend(loc='best', frameon=False)\n",
    "plt.show()"
   ]
  },
  {
   "cell_type": "code",
   "execution_count": null,
   "metadata": {},
   "outputs": [],
   "source": []
  }
 ],
 "metadata": {
  "kernelspec": {
   "display_name": "Python 3",
   "language": "python",
   "name": "python3"
  },
  "language_info": {
   "codemirror_mode": {
    "name": "ipython",
    "version": 3
   },
   "file_extension": ".py",
   "mimetype": "text/x-python",
   "name": "python",
   "nbconvert_exporter": "python",
   "pygments_lexer": "ipython3",
   "version": "3.8.3"
  }
 },
 "nbformat": 4,
 "nbformat_minor": 4
}
