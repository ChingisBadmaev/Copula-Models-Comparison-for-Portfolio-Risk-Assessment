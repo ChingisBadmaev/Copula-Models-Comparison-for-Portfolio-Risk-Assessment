{
 "cells": [
  {
   "cell_type": "code",
   "execution_count": 1,
   "metadata": {},
   "outputs": [],
   "source": [
    "import pandas as pd\n",
    "import numpy as np\n",
    "import scipy.stats\n",
    "import matplotlib.pyplot as plt\n",
    "import seaborn as sns\n",
    "from scipy.stats import levy_stable\n",
    "from scipy import stats\n",
    "from collections import Counter\n",
    "import math\n"
   ]
  },
  {
   "cell_type": "code",
   "execution_count": 2,
   "metadata": {
    "scrolled": false
   },
   "outputs": [
    {
     "data": {
      "text/html": [
       "<div>\n",
       "<style scoped>\n",
       "    .dataframe tbody tr th:only-of-type {\n",
       "        vertical-align: middle;\n",
       "    }\n",
       "\n",
       "    .dataframe tbody tr th {\n",
       "        vertical-align: top;\n",
       "    }\n",
       "\n",
       "    .dataframe thead th {\n",
       "        text-align: right;\n",
       "    }\n",
       "</style>\n",
       "<table border=\"1\" class=\"dataframe\">\n",
       "  <thead>\n",
       "    <tr style=\"text-align: right;\">\n",
       "      <th></th>\n",
       "      <th>log_return_vkco</th>\n",
       "      <th>log_return_tcs_il</th>\n",
       "      <th>log_return_poly_il</th>\n",
       "      <th>log_return_five_il</th>\n",
       "    </tr>\n",
       "  </thead>\n",
       "  <tbody>\n",
       "    <tr>\n",
       "      <th>0</th>\n",
       "      <td>-0.012110</td>\n",
       "      <td>-0.004162</td>\n",
       "      <td>-0.003712</td>\n",
       "      <td>-0.013377</td>\n",
       "    </tr>\n",
       "    <tr>\n",
       "      <th>1</th>\n",
       "      <td>-0.035292</td>\n",
       "      <td>0.000000</td>\n",
       "      <td>-0.029352</td>\n",
       "      <td>-0.024070</td>\n",
       "    </tr>\n",
       "    <tr>\n",
       "      <th>2</th>\n",
       "      <td>0.011583</td>\n",
       "      <td>0.002083</td>\n",
       "      <td>-0.013279</td>\n",
       "      <td>0.007894</td>\n",
       "    </tr>\n",
       "    <tr>\n",
       "      <th>3</th>\n",
       "      <td>-0.006740</td>\n",
       "      <td>0.004154</td>\n",
       "      <td>0.025964</td>\n",
       "      <td>-0.002916</td>\n",
       "    </tr>\n",
       "    <tr>\n",
       "      <th>4</th>\n",
       "      <td>-0.009709</td>\n",
       "      <td>0.015425</td>\n",
       "      <td>-0.010984</td>\n",
       "      <td>-0.007034</td>\n",
       "    </tr>\n",
       "    <tr>\n",
       "      <th>...</th>\n",
       "      <td>...</td>\n",
       "      <td>...</td>\n",
       "      <td>...</td>\n",
       "      <td>...</td>\n",
       "    </tr>\n",
       "    <tr>\n",
       "      <th>248</th>\n",
       "      <td>-0.007648</td>\n",
       "      <td>0.018653</td>\n",
       "      <td>0.030041</td>\n",
       "      <td>0.010193</td>\n",
       "    </tr>\n",
       "    <tr>\n",
       "      <th>249</th>\n",
       "      <td>0.019012</td>\n",
       "      <td>0.044184</td>\n",
       "      <td>0.029452</td>\n",
       "      <td>-0.006216</td>\n",
       "    </tr>\n",
       "    <tr>\n",
       "      <th>250</th>\n",
       "      <td>0.018657</td>\n",
       "      <td>0.038540</td>\n",
       "      <td>0.008584</td>\n",
       "      <td>0.036732</td>\n",
       "    </tr>\n",
       "    <tr>\n",
       "      <th>251</th>\n",
       "      <td>0.046940</td>\n",
       "      <td>0.035287</td>\n",
       "      <td>0.042393</td>\n",
       "      <td>0.000000</td>\n",
       "    </tr>\n",
       "    <tr>\n",
       "      <th>252</th>\n",
       "      <td>0.020943</td>\n",
       "      <td>0.012693</td>\n",
       "      <td>0.028269</td>\n",
       "      <td>0.003818</td>\n",
       "    </tr>\n",
       "  </tbody>\n",
       "</table>\n",
       "<p>253 rows × 4 columns</p>\n",
       "</div>"
      ],
      "text/plain": [
       "     log_return_vkco  log_return_tcs_il  log_return_poly_il  \\\n",
       "0          -0.012110          -0.004162           -0.003712   \n",
       "1          -0.035292           0.000000           -0.029352   \n",
       "2           0.011583           0.002083           -0.013279   \n",
       "3          -0.006740           0.004154            0.025964   \n",
       "4          -0.009709           0.015425           -0.010984   \n",
       "..               ...                ...                 ...   \n",
       "248        -0.007648           0.018653            0.030041   \n",
       "249         0.019012           0.044184            0.029452   \n",
       "250         0.018657           0.038540            0.008584   \n",
       "251         0.046940           0.035287            0.042393   \n",
       "252         0.020943           0.012693            0.028269   \n",
       "\n",
       "     log_return_five_il  \n",
       "0             -0.013377  \n",
       "1             -0.024070  \n",
       "2              0.007894  \n",
       "3             -0.002916  \n",
       "4             -0.007034  \n",
       "..                  ...  \n",
       "248            0.010193  \n",
       "249           -0.006216  \n",
       "250            0.036732  \n",
       "251            0.000000  \n",
       "252            0.003818  \n",
       "\n",
       "[253 rows x 4 columns]"
      ]
     },
     "execution_count": 2,
     "metadata": {},
     "output_type": "execute_result"
    }
   ],
   "source": [
    "data = pd.read_csv('log_return_data.csv')\n",
    "data\n"
   ]
  },
  {
   "cell_type": "markdown",
   "metadata": {},
   "source": [
    "### Для нахождения параметров воспользуемся формулой:  \n",
    "### $ ln(-ln(\\phi^2(|t|))) = ln(2\\sigma^2) + \\alpha ln(|t|),$ где $\\phi$ — характерестическая функция распределения "
   ]
  },
  {
   "cell_type": "code",
   "execution_count": 3,
   "metadata": {},
   "outputs": [],
   "source": [
    "def charact_distr_func(t, dataframe, name, N):\n",
    "    (y, x, _) = plt.hist(dataframe[name], bins=N)\n",
    "    plt.close()\n",
    "    x = x[:-1] - 1 # сдвигаю х на -1\n",
    "    y = y / 253\n",
    "    answer = 0\n",
    "    for i in range(len(x)):\n",
    "        id = complex(0, t * x[i])\n",
    "        answer += math.exp(id.imag) * y[i]\n",
    "    return answer"
   ]
  },
  {
   "cell_type": "code",
   "execution_count": 4,
   "metadata": {},
   "outputs": [],
   "source": [
    "def get_log_log(t, dataframe, name, N):\n",
    "    a = abs(charact_distr_func(t, data, name, N))\n",
    "    return np.log(-np.log(abs(a) ** 2))"
   ]
  },
  {
   "cell_type": "code",
   "execution_count": 5,
   "metadata": {
    "scrolled": false
   },
   "outputs": [],
   "source": [
    "def get_mass_x_and_mass_y(dataframe, column):\n",
    "    x = np.array([])\n",
    "    Y = np.array([])\n",
    "\n",
    "    # функцию для отрицательных аргументов можно не рассматривать \n",
    "    xx = np.arange(0.1, 20.0, 0.05)\n",
    "    for i in xx:\n",
    "        x = np.append(x, i)\n",
    "        Y = np.append(Y, get_log_log(i, dataframe, column, 50))\n",
    "    return x, Y"
   ]
  },
  {
   "cell_type": "code",
   "execution_count": 6,
   "metadata": {},
   "outputs": [],
   "source": [
    "def get_alpha_and_sigma(mass_x, mass_y):\n",
    "    N = 50\n",
    "    log_mass_x = np.log(mass_x)\n",
    "    mx = sum(log_mass_x) / N\n",
    "    my = sum(mass_y) / N\n",
    "    a2 = np.dot(log_mass_x.T, log_mass_x) / N\n",
    "    a11 = np.dot(log_mass_x.T, mass_y) / N\n",
    "    alpha = (a11 - mx * my) / (a2 - mx ** 2)\n",
    "    sigma_2 = my - alpha * mx\n",
    "    return alpha, sigma_2\n"
   ]
  },
  {
   "cell_type": "code",
   "execution_count": 7,
   "metadata": {
    "scrolled": true
   },
   "outputs": [
    {
     "data": {
      "text/plain": [
       "<matplotlib.collections.PathCollection at 0x199762947c0>"
      ]
     },
     "execution_count": 7,
     "metadata": {},
     "output_type": "execute_result"
    },
    {
     "data": {
      "image/png": "[encoded data removed]",
      "text/plain": [
       "<Figure size 432x288 with 1 Axes>"
      ]
     },
     "metadata": {
      "needs_background": "light"
     },
     "output_type": "display_data"
    }
   ],
   "source": [
    "mass_x, mass_y = get_mass_x_and_mass_y(data, 'log_return_vkco')\n",
    "log_mass_x = np.log(mass_x)\n",
    "plt.scatter(log_mass_x, mass_y)"
   ]
  },
  {
   "cell_type": "markdown",
   "metadata": {},
   "source": [
    "### Воспользуемся встроенными функциями\n"
   ]
  },
  {
   "cell_type": "code",
   "execution_count": 8,
   "metadata": {},
   "outputs": [],
   "source": [
    "def get_x_y_from_dataframe(dataframe, name, N):\n",
    "    (y, x, _) = plt.hist(dataframe[name], bins=N)\n",
    "    plt.close()\n",
    "    y = y / sum(abs(y))\n",
    "    return x, y"
   ]
  },
  {
   "cell_type": "code",
   "execution_count": 9,
   "metadata": {},
   "outputs": [],
   "source": [
    "def get_x_y(data, N):\n",
    "    (y, x, _) = plt.hist(data, bins=N)\n",
    "    plt.close()\n",
    "    y = y / sum(abs(y))\n",
    "    return x, y"
   ]
  },
  {
   "cell_type": "code",
   "execution_count": 10,
   "metadata": {},
   "outputs": [],
   "source": [
    "def det_stable_distr_params(dataframe, columns):\n",
    "    alpha, beta = 1.0, 0.5\n",
    "    # use scipy's quantile estimator to estimate the parameters and convert to S parameterization\n",
    "    pconv = lambda alpha, beta, mu, sigma: (alpha, beta, mu, sigma)\n",
    "    return pconv(*levy_stable._fitstart(dataframe[columns]))\n"
   ]
  },
  {
   "cell_type": "code",
   "execution_count": 11,
   "metadata": {},
   "outputs": [],
   "source": [
    "# сохраняем файл с параметрами\n",
    "df = pd.DataFrame(columns = ['alpha', 'beta', 'mu', 'sigma'])\n",
    "for col in data.columns:\n",
    "    alpha, beta, mu, sigma = det_stable_distr_params(data, col)\n",
    "    dat = {'alpha':alpha, 'beta':beta, 'mu':mu, 'sigma':sigma}\n",
    "    df = df.append(dat, ignore_index=True)\n",
    "    \n",
    "df = df.rename(mapper={0: 'vkco', 1: 'tcs_il', 2: 'poly_il', 3: 'five_il'})\n",
    "df.to_csv('params_stable_distribution.csv', index=True)"
   ]
  },
  {
   "cell_type": "code",
   "execution_count": 80,
   "metadata": {
    "scrolled": false
   },
   "outputs": [],
   "source": [
    "def get_p_value(dataframe, columns):\n",
    "    pconv = lambda alpha, beta, mu, sigma: (alpha, beta, mu, sigma)\n",
    "    alpha, beta, _, _ = pconv(*levy_stable._fitstart(dataframe[columns]))\n",
    "    r = levy_stable.rvs(alpha, beta, size=252)\n",
    "    r = r / sum(abs(r))\n",
    "    (y, x, _) = plt.hist(r, bins=40)\n",
    "    x = x[:-1]\n",
    "    y = y / sum(abs(y))\n",
    "    plt.close()\n",
    "\n",
    "    (y0, x0, _) = plt.hist(dataframe[columns], bins=40)\n",
    "    x0 = x0[:-1]\n",
    "    y0 = y0 / sum(abs(y0))\n",
    "    plt.close()\n",
    "\n",
    "    plt.figure()\n",
    "    plt.plot(x0, y0)\n",
    "    plt.plot(x, y)\n",
    "    print(str(col), stats.ks_2samp(y, y0)[1])"
   ]
  },
  {
   "cell_type": "code",
   "execution_count": 81,
   "metadata": {},
   "outputs": [
    {
     "name": "stdout",
     "output_type": "stream",
     "text": [
      "log_return_vkco 0.02860307028023343\n"
     ]
    },
    {
     "data": {
      "image/png": "[encoded data removed]",
      "text/plain": [
       "<Figure size 432x288 with 1 Axes>"
      ]
     },
     "metadata": {
      "needs_background": "light"
     },
     "output_type": "display_data"
    },
    {
     "name": "stdout",
     "output_type": "stream",
     "text": [
      "log_return_tcs_il 0.9188052214121167\n"
     ]
    },
    {
     "data": {
      "image/png": "[encoded data removed]",
      "text/plain": [
       "<Figure size 432x288 with 1 Axes>"
      ]
     },
     "metadata": {
      "needs_background": "light"
     },
     "output_type": "display_data"
    },
    {
     "name": "stdout",
     "output_type": "stream",
     "text": [
      "log_return_poly_il 0.7659314523482239\n"
     ]
    },
    {
     "data": {
      "image/png": "[encoded data removed]",
      "text/plain": [
       "<Figure size 432x288 with 1 Axes>"
      ]
     },
     "metadata": {
      "needs_background": "light"
     },
     "output_type": "display_data"
    },
    {
     "name": "stdout",
     "output_type": "stream",
     "text": [
      "log_return_five_il 0.9188052214121167\n"
     ]
    },
    {
     "data": {
      "image/png": "[encoded data removed]",
      "text/plain": [
       "<Figure size 432x288 with 1 Axes>"
      ]
     },
     "metadata": {
      "needs_background": "light"
     },
     "output_type": "display_data"
    }
   ],
   "source": [
    "for col in data.columns:\n",
    "    get_p_value(data,col)\n",
    "    plt.show()"
   ]
  },
  {
   "cell_type": "code",
   "execution_count": null,
   "metadata": {},
   "outputs": [],
   "source": []
  }
 ],
 "metadata": {
  "kernelspec": {
   "display_name": "Python 3",
   "language": "python",
   "name": "python3"
  },
  "language_info": {
   "codemirror_mode": {
    "name": "ipython",
    "version": 3
   },
   "file_extension": ".py",
   "mimetype": "text/x-python",
   "name": "python",
   "nbconvert_exporter": "python",
   "pygments_lexer": "ipython3",
   "version": "3.8.3"
  }
 },
 "nbformat": 4,
 "nbformat_minor": 4
}
