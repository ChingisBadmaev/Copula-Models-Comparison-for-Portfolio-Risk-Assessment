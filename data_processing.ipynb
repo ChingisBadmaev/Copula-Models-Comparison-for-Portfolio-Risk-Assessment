{
 "cells": [
  {
   "cell_type": "code",
   "execution_count": 99,
   "metadata": {},
   "outputs": [],
   "source": [
    "import pandas as pd\n",
    "import numpy as np\n",
    "from scipy import stats\n",
    "import matplotlib.pyplot as plt\n",
    "import seaborn as sns\n",
    "import math"
   ]
  },
  {
   "cell_type": "code",
   "execution_count": 64,
   "metadata": {
    "scrolled": true
   },
   "outputs": [],
   "source": [
    "data_yndx = pd.read_csv(\"YNDX.csv\")\n",
    "data_vkco = pd.read_csv(\"VKCO.IL.csv\")\n",
    "data_tcs_il = pd.read_csv(\"TCS.IL.csv\")\n",
    "data_poly_il = pd.read_csv(\"POLY.L.csv\")"
   ]
  },
  {
   "cell_type": "markdown",
   "metadata": {},
   "source": [
    "\n",
    "### Equation transforms a price series p into a log-returns r series for each asset:"
   ]
  },
  {
   "cell_type": "code",
   "execution_count": 48,
   "metadata": {},
   "outputs": [],
   "source": [
    "def get_log_return(dataframe, column):\n",
    "    log_return = []\n",
    "    data = dataframe[column]\n",
    "    for i in range(1, len(data)):\n",
    "        log_return.append(np.log(data[i] / data[i - 1]))\n",
    "    return log_return"
   ]
  },
  {
   "cell_type": "code",
   "execution_count": 65,
   "metadata": {},
   "outputs": [],
   "source": [
    "log_return_yndx = pd.DataFrame({'log_return': get_log_return(data_yndx, 'Close')})\n",
    "log_return_vkco = pd.DataFrame({'log_return': get_log_return(data_vkco, 'Close')})\n",
    "log_return_tcs_il = pd.DataFrame({'log_return': get_log_return(data_tcs_il, 'Close')})\n",
    "log_return_poly_il = pd.DataFrame({'log_return': get_log_return(data_poly_il, 'Close')})"
   ]
  },
  {
   "cell_type": "markdown",
   "metadata": {},
   "source": [
    "### Проверка на нормальное распределение критерием Шапиро-Уилка"
   ]
  },
  {
   "cell_type": "code",
   "execution_count": 68,
   "metadata": {
    "scrolled": true
   },
   "outputs": [
    {
     "name": "stdout",
     "output_type": "stream",
     "text": [
      "p-value:\n",
      "yndx: 1.2273982941124473e-09\n",
      "vkco: 6.867368007590358e-09\n",
      "tcs_il: 4.4525447307560036e-15\n",
      "poly_il: 4.1895285851634156e-11\n"
     ]
    }
   ],
   "source": [
    "res_yndx = stats.shapiro(pd.DataFrame({'log_return': log_return_yndx['log_return']}))\n",
    "res_vkco = stats.shapiro(pd.DataFrame({'log_return': log_return_vkco['log_return']}))\n",
    "res_tcs_il = stats.shapiro(pd.DataFrame({'log_return': log_return_tcs_il['log_return']}))\n",
    "res_poly_il = stats.shapiro(pd.DataFrame({'log_return': log_return_poly_il['log_return']}))\n",
    "\n",
    "print('p-value:')\n",
    "print('yndx:', res_yndx[1])\n",
    "print('vkco:', res_vkco[1])\n",
    "print('tcs_il:', res_tcs_il[1])\n",
    "print('poly_il:', res_poly_il[1])"
   ]
  },
  {
   "cell_type": "code",
   "execution_count": 87,
   "metadata": {},
   "outputs": [
    {
     "data": {
      "image/png": "[encoded data removed]",
      "text/plain": [
       "<Figure size 432x288 with 1 Axes>"
      ]
     },
     "metadata": {
      "needs_background": "light"
     },
     "output_type": "display_data"
    },
    {
     "data": {
      "image/png": "[encoded data removed]",
      "text/plain": [
       "<Figure size 432x288 with 1 Axes>"
      ]
     },
     "metadata": {
      "needs_background": "light"
     },
     "output_type": "display_data"
    },
    {
     "data": {
      "image/png": "[encoded data removed]",
      "text/plain": [
       "<Figure size 432x288 with 1 Axes>"
      ]
     },
     "metadata": {
      "needs_background": "light"
     },
     "output_type": "display_data"
    },
    {
     "data": {
      "image/png": "[encoded data removed]",
      "text/plain": [
       "<Figure size 432x288 with 1 Axes>"
      ]
     },
     "metadata": {
      "needs_background": "light"
     },
     "output_type": "display_data"
    }
   ],
   "source": [
    "for item in [log_return_yndx, log_return_vkco, log_return_tcs_il, log_return_poly_il]:\n",
    "    plt.figure()\n",
    "    plt.hist(item, bins=20, label='hst')"
   ]
  },
  {
   "cell_type": "code",
   "execution_count": 88,
   "metadata": {},
   "outputs": [],
   "source": [
    "def show_corr(dataframe):\n",
    "    plt.figure(figsize=(22,18), dpi= 50)\n",
    "    sns.heatmap(dataframe.corr(), xticklabels=dataframe.corr().columns, yticklabels=dataframe.corr().columns, cmap='RdYlGn', center=0, annot=True)\n",
    "\n",
    "    # Decorations\n",
    "    plt.title('Correlogram of mtcars', fontsize=15)\n",
    "    plt.xticks(fontsize=15)\n",
    "    plt.yticks(fontsize=15)\n",
    "    plt.show()"
   ]
  },
  {
   "cell_type": "code",
   "execution_count": 96,
   "metadata": {},
   "outputs": [
    {
     "data": {
      "text/html": [
       "<div>\n",
       "<style scoped>\n",
       "    .dataframe tbody tr th:only-of-type {\n",
       "        vertical-align: middle;\n",
       "    }\n",
       "\n",
       "    .dataframe tbody tr th {\n",
       "        vertical-align: top;\n",
       "    }\n",
       "\n",
       "    .dataframe thead th {\n",
       "        text-align: right;\n",
       "    }\n",
       "</style>\n",
       "<table border=\"1\" class=\"dataframe\">\n",
       "  <thead>\n",
       "    <tr style=\"text-align: right;\">\n",
       "      <th></th>\n",
       "      <th>log_return</th>\n",
       "      <th>log_return</th>\n",
       "      <th>log_return</th>\n",
       "      <th>log_return</th>\n",
       "    </tr>\n",
       "  </thead>\n",
       "  <tbody>\n",
       "    <tr>\n",
       "      <th>0</th>\n",
       "      <td>0.002638</td>\n",
       "      <td>-0.012110</td>\n",
       "      <td>-0.004162</td>\n",
       "      <td>-0.003712</td>\n",
       "    </tr>\n",
       "    <tr>\n",
       "      <th>1</th>\n",
       "      <td>0.002047</td>\n",
       "      <td>-0.035292</td>\n",
       "      <td>0.000000</td>\n",
       "      <td>-0.029352</td>\n",
       "    </tr>\n",
       "    <tr>\n",
       "      <th>2</th>\n",
       "      <td>-0.010573</td>\n",
       "      <td>0.011583</td>\n",
       "      <td>0.002083</td>\n",
       "      <td>-0.013279</td>\n",
       "    </tr>\n",
       "    <tr>\n",
       "      <th>3</th>\n",
       "      <td>0.000295</td>\n",
       "      <td>-0.006740</td>\n",
       "      <td>0.004154</td>\n",
       "      <td>0.025964</td>\n",
       "    </tr>\n",
       "    <tr>\n",
       "      <th>4</th>\n",
       "      <td>0.019872</td>\n",
       "      <td>-0.009709</td>\n",
       "      <td>0.015425</td>\n",
       "      <td>-0.010984</td>\n",
       "    </tr>\n",
       "    <tr>\n",
       "      <th>...</th>\n",
       "      <td>...</td>\n",
       "      <td>...</td>\n",
       "      <td>...</td>\n",
       "      <td>...</td>\n",
       "    </tr>\n",
       "    <tr>\n",
       "      <th>248</th>\n",
       "      <td>0.014487</td>\n",
       "      <td>-0.007648</td>\n",
       "      <td>0.018653</td>\n",
       "      <td>0.030041</td>\n",
       "    </tr>\n",
       "    <tr>\n",
       "      <th>249</th>\n",
       "      <td>0.059370</td>\n",
       "      <td>0.019012</td>\n",
       "      <td>0.044184</td>\n",
       "      <td>0.029452</td>\n",
       "    </tr>\n",
       "    <tr>\n",
       "      <th>250</th>\n",
       "      <td>0.030079</td>\n",
       "      <td>0.018657</td>\n",
       "      <td>0.038540</td>\n",
       "      <td>0.008584</td>\n",
       "    </tr>\n",
       "    <tr>\n",
       "      <th>251</th>\n",
       "      <td>0.011031</td>\n",
       "      <td>0.046940</td>\n",
       "      <td>0.035287</td>\n",
       "      <td>0.042393</td>\n",
       "    </tr>\n",
       "    <tr>\n",
       "      <th>252</th>\n",
       "      <td>NaN</td>\n",
       "      <td>0.020943</td>\n",
       "      <td>0.012693</td>\n",
       "      <td>0.028269</td>\n",
       "    </tr>\n",
       "  </tbody>\n",
       "</table>\n",
       "<p>253 rows × 4 columns</p>\n",
       "</div>"
      ],
      "text/plain": [
       "     log_return  log_return  log_return  log_return\n",
       "0      0.002638   -0.012110   -0.004162   -0.003712\n",
       "1      0.002047   -0.035292    0.000000   -0.029352\n",
       "2     -0.010573    0.011583    0.002083   -0.013279\n",
       "3      0.000295   -0.006740    0.004154    0.025964\n",
       "4      0.019872   -0.009709    0.015425   -0.010984\n",
       "..          ...         ...         ...         ...\n",
       "248    0.014487   -0.007648    0.018653    0.030041\n",
       "249    0.059370    0.019012    0.044184    0.029452\n",
       "250    0.030079    0.018657    0.038540    0.008584\n",
       "251    0.011031    0.046940    0.035287    0.042393\n",
       "252         NaN    0.020943    0.012693    0.028269\n",
       "\n",
       "[253 rows x 4 columns]"
      ]
     },
     "execution_count": 96,
     "metadata": {},
     "output_type": "execute_result"
    }
   ],
   "source": [
    "all_data = pd.DataFrame()\n",
    "all_data = pd.concat([log_return_yndx, log_return_vkco, log_return_tcs_il, log_return_poly_il], axis=1)\n",
    "all_data\n"
   ]
  },
  {
   "cell_type": "code",
   "execution_count": 100,
   "metadata": {},
   "outputs": [
    {
     "data": {
      "image/png": "[encoded data removed]",
      "text/plain": [
       "<Figure size 1100x900 with 2 Axes>"
      ]
     },
     "metadata": {
      "needs_background": "light"
     },
     "output_type": "display_data"
    }
   ],
   "source": [
    "show_corr(all_data)"
   ]
  }
 ],
 "metadata": {
  "kernelspec": {
   "display_name": "Python 3",
   "language": "python",
   "name": "python3"
  },
  "language_info": {
   "codemirror_mode": {
    "name": "ipython",
    "version": 3
   },
   "file_extension": ".py",
   "mimetype": "text/x-python",
   "name": "python",
   "nbconvert_exporter": "python",
   "pygments_lexer": "ipython3",
   "version": "3.8.3"
  }
 },
 "nbformat": 4,
 "nbformat_minor": 4
}
