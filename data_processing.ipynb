{
 "cells": [
  {
   "cell_type": "code",
   "execution_count": 62,
   "metadata": {},
   "outputs": [],
   "source": [
    "import pandas as pd\n",
    "import numpy as np\n",
    "from scipy import stats\n",
    "import matplotlib.pyplot as plt\n",
    "import math"
   ]
  },
  {
   "cell_type": "code",
   "execution_count": 64,
   "metadata": {
    "scrolled": true
   },
   "outputs": [],
   "source": [
    "data_yndx = pd.read_csv(\"YNDX.csv\")\n",
    "data_vkco = pd.read_csv(\"VKCO.IL.csv\")\n",
    "data_tcs_il = pd.read_csv(\"TCS.IL.csv\")\n",
    "data_poly_il = pd.read_csv(\"POLY.L.csv\")"
   ]
  },
  {
   "cell_type": "markdown",
   "metadata": {},
   "source": [
    "\n",
    "### Equation transforms a price series p into a log-returns r series for each asset:"
   ]
  },
  {
   "cell_type": "code",
   "execution_count": 48,
   "metadata": {},
   "outputs": [],
   "source": [
    "def get_log_return(dataframe, column):\n",
    "    log_return = []\n",
    "    data = dataframe[column]\n",
    "    for i in range(1, len(data)):\n",
    "        log_return.append(np.log(data[i] / data[i - 1]))\n",
    "    return log_return"
   ]
  },
  {
   "cell_type": "code",
   "execution_count": 65,
   "metadata": {},
   "outputs": [],
   "source": [
    "log_return_yndx = pd.DataFrame({'log_return': get_log_return(data_yndx, 'Close')})\n",
    "log_return_vkco = pd.DataFrame({'log_return': get_log_return(data_vkco, 'Close')})\n",
    "log_return_tcs_il = pd.DataFrame({'log_return': get_log_return(data_tcs_il, 'Close')})\n",
    "log_return_poly_il = pd.DataFrame({'log_return': get_log_return(data_poly_il, 'Close')})"
   ]
  },
  {
   "cell_type": "markdown",
   "metadata": {},
   "source": [
    "### Проверка на нормальное распределение критерием Шапиро-Уилка"
   ]
  },
  {
   "cell_type": "code",
   "execution_count": 68,
   "metadata": {},
   "outputs": [
    {
     "name": "stdout",
     "output_type": "stream",
     "text": [
      "p-value:\n",
      "yndx: 1.2273982941124473e-09\n",
      "vkco: 6.867368007590358e-09\n",
      "tcs_il: 4.4525447307560036e-15\n",
      "poly_il: 4.1895285851634156e-11\n"
     ]
    }
   ],
   "source": [
    "res_yndx= stats.shapiro(pd.DataFrame({'log_return': log_return_yndx['log_return']}))\n",
    "res_vkco = stats.shapiro(pd.DataFrame({'log_return': log_return_vkco['log_return']}))\n",
    "res_tcs_il = stats.shapiro(pd.DataFrame({'log_return': log_return_tcs_il['log_return']}))\n",
    "res_poly_il = stats.shapiro(pd.DataFrame({'log_return': log_return_poly_il['log_return']}))\n",
    "\n",
    "print('p-value:')\n",
    "print('yndx:', res_yndx[1])\n",
    "print('vkco:', res_vkco[1])\n",
    "print('tcs_il:', res_tcs_il[1])\n",
    "print('poly_il:', res_poly_il[1])"
   ]
  },
  {
   "cell_type": "code",
   "execution_count": 82,
   "metadata": {},
   "outputs": [
    {
     "data": {
      "text/plain": [
       "(array([ 1.,  0.,  1.,  1.,  1.,  0.,  3.,  9., 11., 25., 39., 70., 47.,\n",
       "        24., 12.,  4.,  0.,  1.,  1.,  2.]),\n",
       " array([-0.14315914, -0.13035322, -0.11754729, -0.10474137, -0.09193544,\n",
       "        -0.07912952, -0.06632359, -0.05351766, -0.04071174, -0.02790581,\n",
       "        -0.01509989, -0.00229396,  0.01051197,  0.02331789,  0.03612382,\n",
       "         0.04892974,  0.06173567,  0.07454159,  0.08734752,  0.10015345,\n",
       "         0.11295937]),\n",
       " <BarContainer object of 20 artists>)"
      ]
     },
     "execution_count": 82,
     "metadata": {},
     "output_type": "execute_result"
    },
    {
     "data": {
      "image/png": "[encoded data removed]",
      "text/plain": [
       "<Figure size 432x288 with 1 Axes>"
      ]
     },
     "metadata": {
      "needs_background": "light"
     },
     "output_type": "display_data"
    }
   ],
   "source": [
    "plt.hist(log_return_yndx, bins=20, label='hst')"
   ]
  },
  {
   "cell_type": "code",
   "execution_count": 77,
   "metadata": {
    "scrolled": false
   },
   "outputs": [
    {
     "data": {
      "text/plain": [
       "(array([ 1.,  1.,  0.,  0.,  1.,  1.,  3.,  2.,  6., 11., 21., 43., 58.,\n",
       "        52., 19., 15., 10.,  3.,  4.,  2.]),\n",
       " array([-0.14767817, -0.13582068, -0.1239632 , -0.11210572, -0.10024823,\n",
       "        -0.08839075, -0.07653327, -0.06467578, -0.0528183 , -0.04096082,\n",
       "        -0.02910333, -0.01724585, -0.00538837,  0.00646912,  0.0183266 ,\n",
       "         0.03018408,  0.04204156,  0.05389905,  0.06575653,  0.07761401,\n",
       "         0.0894715 ]),\n",
       " <BarContainer object of 20 artists>)"
      ]
     },
     "execution_count": 77,
     "metadata": {},
     "output_type": "execute_result"
    },
    {
     "data": {
      "image/png": "[encoded data removed]",
      "text/plain": [
       "<Figure size 432x288 with 1 Axes>"
      ]
     },
     "metadata": {
      "needs_background": "light"
     },
     "output_type": "display_data"
    }
   ],
   "source": [
    "plt.hist(log_return_vkco, bins=20, label='hst')"
   ]
  },
  {
   "cell_type": "code",
   "execution_count": 78,
   "metadata": {
    "scrolled": false
   },
   "outputs": [
    {
     "data": {
      "text/plain": [
       "(array([ 1.,  0.,  0.,  2.,  0.,  0.,  0.,  0.,  2.,  1.,  4., 10., 22.,\n",
       "        56., 69., 48., 25.,  9.,  0.,  4.]),\n",
       " array([-0.26009921, -0.241807  , -0.22351479, -0.20522257, -0.18693036,\n",
       "        -0.16863815, -0.15034593, -0.13205372, -0.1137615 , -0.09546929,\n",
       "        -0.07717708, -0.05888486, -0.04059265, -0.02230044, -0.00400822,\n",
       "         0.01428399,  0.0325762 ,  0.05086842,  0.06916063,  0.08745284,\n",
       "         0.10574506]),\n",
       " <BarContainer object of 20 artists>)"
      ]
     },
     "execution_count": 78,
     "metadata": {},
     "output_type": "execute_result"
    },
    {
     "data": {
      "image/png": "[encoded data removed]",
      "text/plain": [
       "<Figure size 432x288 with 1 Axes>"
      ]
     },
     "metadata": {
      "needs_background": "light"
     },
     "output_type": "display_data"
    }
   ],
   "source": [
    "plt.hist(log_return_tcs_il, bins=20, label='hst')"
   ]
  },
  {
   "cell_type": "code",
   "execution_count": 81,
   "metadata": {},
   "outputs": [
    {
     "data": {
      "text/plain": [
       "(array([ 2.,  1.,  3.,  4.,  9., 14., 32., 75., 55., 36.,  9.,  4.,  5.,\n",
       "         2.,  0.,  0.,  1.,  0.,  0.,  1.]),\n",
       " array([-0.09698848, -0.08445362, -0.07191876, -0.0593839 , -0.04684905,\n",
       "        -0.03431419, -0.02177933, -0.00924447,  0.00329039,  0.01582525,\n",
       "         0.02836011,  0.04089496,  0.05342982,  0.06596468,  0.07849954,\n",
       "         0.0910344 ,  0.10356926,  0.11610412,  0.12863897,  0.14117383,\n",
       "         0.15370869]),\n",
       " <BarContainer object of 20 artists>)"
      ]
     },
     "execution_count": 81,
     "metadata": {},
     "output_type": "execute_result"
    },
    {
     "data": {
      "image/png": "[encoded data removed]",
      "text/plain": [
       "<Figure size 432x288 with 1 Axes>"
      ]
     },
     "metadata": {
      "needs_background": "light"
     },
     "output_type": "display_data"
    }
   ],
   "source": [
    "plt.hist(log_return_poly_il, bins=20, label='hst')"
   ]
  }
 ],
 "metadata": {
  "kernelspec": {
   "display_name": "Python 3",
   "language": "python",
   "name": "python3"
  },
  "language_info": {
   "codemirror_mode": {
    "name": "ipython",
    "version": 3
   },
   "file_extension": ".py",
   "mimetype": "text/x-python",
   "name": "python",
   "nbconvert_exporter": "python",
   "pygments_lexer": "ipython3",
   "version": "3.8.3"
  }
 },
 "nbformat": 4,
 "nbformat_minor": 4
}
