{
 "cells": [
  {
   "cell_type": "code",
   "execution_count": 117,
   "metadata": {},
   "outputs": [],
   "source": [
    "import pandas as pd\n",
    "import numpy as np\n",
    "import scipy.stats\n",
    "import matplotlib.pyplot as plt\n",
    "import seaborn as sns\n",
    "from scipy import stats\n",
    "from collections import Counter\n",
    "import openturns as ot\n",
    "import math\n"
   ]
  },
  {
   "cell_type": "code",
   "execution_count": 2,
   "metadata": {},
   "outputs": [
    {
     "data": {
      "text/html": [
       "<div>\n",
       "<style scoped>\n",
       "    .dataframe tbody tr th:only-of-type {\n",
       "        vertical-align: middle;\n",
       "    }\n",
       "\n",
       "    .dataframe tbody tr th {\n",
       "        vertical-align: top;\n",
       "    }\n",
       "\n",
       "    .dataframe thead th {\n",
       "        text-align: right;\n",
       "    }\n",
       "</style>\n",
       "<table border=\"1\" class=\"dataframe\">\n",
       "  <thead>\n",
       "    <tr style=\"text-align: right;\">\n",
       "      <th></th>\n",
       "      <th>log_return_vkco</th>\n",
       "      <th>log_return_tcs_il</th>\n",
       "      <th>log_return_poly_il</th>\n",
       "      <th>log_return_five_il</th>\n",
       "    </tr>\n",
       "  </thead>\n",
       "  <tbody>\n",
       "    <tr>\n",
       "      <th>0</th>\n",
       "      <td>-0.012110</td>\n",
       "      <td>-0.004162</td>\n",
       "      <td>-0.003712</td>\n",
       "      <td>-0.013377</td>\n",
       "    </tr>\n",
       "    <tr>\n",
       "      <th>1</th>\n",
       "      <td>-0.035292</td>\n",
       "      <td>0.000000</td>\n",
       "      <td>-0.029352</td>\n",
       "      <td>-0.024070</td>\n",
       "    </tr>\n",
       "    <tr>\n",
       "      <th>2</th>\n",
       "      <td>0.011583</td>\n",
       "      <td>0.002083</td>\n",
       "      <td>-0.013279</td>\n",
       "      <td>0.007894</td>\n",
       "    </tr>\n",
       "    <tr>\n",
       "      <th>3</th>\n",
       "      <td>-0.006740</td>\n",
       "      <td>0.004154</td>\n",
       "      <td>0.025964</td>\n",
       "      <td>-0.002916</td>\n",
       "    </tr>\n",
       "    <tr>\n",
       "      <th>4</th>\n",
       "      <td>-0.009709</td>\n",
       "      <td>0.015425</td>\n",
       "      <td>-0.010984</td>\n",
       "      <td>-0.007034</td>\n",
       "    </tr>\n",
       "    <tr>\n",
       "      <th>...</th>\n",
       "      <td>...</td>\n",
       "      <td>...</td>\n",
       "      <td>...</td>\n",
       "      <td>...</td>\n",
       "    </tr>\n",
       "    <tr>\n",
       "      <th>248</th>\n",
       "      <td>-0.007648</td>\n",
       "      <td>0.018653</td>\n",
       "      <td>0.030041</td>\n",
       "      <td>0.010193</td>\n",
       "    </tr>\n",
       "    <tr>\n",
       "      <th>249</th>\n",
       "      <td>0.019012</td>\n",
       "      <td>0.044184</td>\n",
       "      <td>0.029452</td>\n",
       "      <td>-0.006216</td>\n",
       "    </tr>\n",
       "    <tr>\n",
       "      <th>250</th>\n",
       "      <td>0.018657</td>\n",
       "      <td>0.038540</td>\n",
       "      <td>0.008584</td>\n",
       "      <td>0.036732</td>\n",
       "    </tr>\n",
       "    <tr>\n",
       "      <th>251</th>\n",
       "      <td>0.046940</td>\n",
       "      <td>0.035287</td>\n",
       "      <td>0.042393</td>\n",
       "      <td>0.000000</td>\n",
       "    </tr>\n",
       "    <tr>\n",
       "      <th>252</th>\n",
       "      <td>0.020943</td>\n",
       "      <td>0.012693</td>\n",
       "      <td>0.028269</td>\n",
       "      <td>0.003818</td>\n",
       "    </tr>\n",
       "  </tbody>\n",
       "</table>\n",
       "<p>253 rows × 4 columns</p>\n",
       "</div>"
      ],
      "text/plain": [
       "     log_return_vkco  log_return_tcs_il  log_return_poly_il  \\\n",
       "0          -0.012110          -0.004162           -0.003712   \n",
       "1          -0.035292           0.000000           -0.029352   \n",
       "2           0.011583           0.002083           -0.013279   \n",
       "3          -0.006740           0.004154            0.025964   \n",
       "4          -0.009709           0.015425           -0.010984   \n",
       "..               ...                ...                 ...   \n",
       "248        -0.007648           0.018653            0.030041   \n",
       "249         0.019012           0.044184            0.029452   \n",
       "250         0.018657           0.038540            0.008584   \n",
       "251         0.046940           0.035287            0.042393   \n",
       "252         0.020943           0.012693            0.028269   \n",
       "\n",
       "     log_return_five_il  \n",
       "0             -0.013377  \n",
       "1             -0.024070  \n",
       "2              0.007894  \n",
       "3             -0.002916  \n",
       "4             -0.007034  \n",
       "..                  ...  \n",
       "248            0.010193  \n",
       "249           -0.006216  \n",
       "250            0.036732  \n",
       "251            0.000000  \n",
       "252            0.003818  \n",
       "\n",
       "[253 rows x 4 columns]"
      ]
     },
     "execution_count": 2,
     "metadata": {},
     "output_type": "execute_result"
    }
   ],
   "source": [
    "data = pd.read_csv('log_return_data.csv')\n",
    "data\n"
   ]
  },
  {
   "cell_type": "code",
   "execution_count": 123,
   "metadata": {
    "scrolled": true
   },
   "outputs": [],
   "source": [
    "distribution = ot.MeixnerDistribution(1.0, 0.25, 1.0, 0.0)\n",
    "sample = distribution.getSample(252)\n"
   ]
  },
  {
   "cell_type": "code",
   "execution_count": 124,
   "metadata": {},
   "outputs": [
    {
     "name": "stdout",
     "output_type": "stream",
     "text": [
      "alpha: 0.5\n"
     ]
    }
   ],
   "source": [
    "print('alpha:', distribution.getAlpha())"
   ]
  },
  {
   "cell_type": "code",
   "execution_count": 109,
   "metadata": {},
   "outputs": [],
   "source": [
    "def get_x_y_from_dataframe(dataframe, name, N):\n",
    "    (y, x, _) = plt.hist(dataframe[name], bins=N)\n",
    "    plt.close()\n",
    "    x = x[:-1]\n",
    "    x = x / sum(abs(x))\n",
    "    y = y / sum(abs(y))\n",
    "    return x, y"
   ]
  },
  {
   "cell_type": "code",
   "execution_count": 110,
   "metadata": {},
   "outputs": [],
   "source": [
    "def get_x_y(dataframe, N):\n",
    "    (y, x, _) = plt.hist(dataframe, bins=N)\n",
    "    plt.close()\n",
    "    x = x[:-1]\n",
    "    x = x / sum(abs(x))\n",
    "    y = y / sum(abs(y))\n",
    "    return x, y"
   ]
  },
  {
   "cell_type": "code",
   "execution_count": 142,
   "metadata": {},
   "outputs": [
    {
     "data": {
      "text/plain": [
       "Ks_2sampResult(statistic=0.22, pvalue=0.17858668181221732)"
      ]
     },
     "execution_count": 142,
     "metadata": {},
     "output_type": "execute_result"
    },
    {
     "data": {
      "image/png": "[encoded data removed]",
      "text/plain": [
       "<Figure size 432x288 with 1 Axes>"
      ]
     },
     "metadata": {
      "needs_background": "light"
     },
     "output_type": "display_data"
    }
   ],
   "source": [
    "distribution = ot.MeixnerDistribution(0.47, 0.01, 1.7, 2.0)\n",
    "sample = distribution.getSample(1000)\n",
    "\n",
    "my_x, my_y = get_x_y_from_dataframe(data, 'log_return_vkco', 50)\n",
    "gen_x, gen_y = get_x_y(sample, 50)\n",
    "plt.plot(gen_x, gen_y)\n",
    "\n",
    "stats.ks_2samp(my_y, gen_y)"
   ]
  },
  {
   "cell_type": "code",
   "execution_count": 133,
   "metadata": {},
   "outputs": [
    {
     "name": "stdout",
     "output_type": "stream",
     "text": [
      "[0.00395257 0.         0.         0.00395257 0.         0.\n",
      " 0.         0.         0.         0.         0.         0.\n",
      " 0.00395257 0.         0.00395257 0.         0.00395257 0.01581028\n",
      " 0.         0.         0.00790514 0.01185771 0.01185771 0.01976285\n",
      " 0.01581028 0.01976285 0.04347826 0.06719368 0.03952569 0.08300395\n",
      " 0.09881423 0.09090909 0.09881423 0.1027668  0.04347826 0.03952569\n",
      " 0.02766798 0.02371542 0.02371542 0.01976285 0.01976285 0.01185771\n",
      " 0.01185771 0.00395257 0.00395257 0.00790514 0.00395257 0.00395257\n",
      " 0.00395257 0.00395257]\n",
      "[0.00396825 0.00396825 0.         0.00396825 0.         0.\n",
      " 0.00793651 0.00396825 0.00396825 0.00396825 0.00793651 0.01587302\n",
      " 0.01587302 0.01587302 0.01587302 0.01984127 0.01190476 0.02777778\n",
      " 0.02777778 0.03571429 0.05555556 0.04761905 0.04761905 0.07142857\n",
      " 0.03968254 0.04365079 0.03174603 0.04761905 0.05555556 0.03968254\n",
      " 0.03174603 0.01984127 0.04761905 0.03174603 0.01587302 0.01587302\n",
      " 0.01587302 0.00396825 0.01984127 0.01587302 0.01190476 0.01190476\n",
      " 0.00396825 0.00396825 0.01190476 0.01190476 0.01190476 0.\n",
      " 0.00396825 0.00396825]\n"
     ]
    }
   ],
   "source": [
    "print(my_y)\n",
    "print(gen_y)"
   ]
  },
  {
   "cell_type": "code",
   "execution_count": 135,
   "metadata": {},
   "outputs": [
    {
     "name": "stdout",
     "output_type": "stream",
     "text": [
      "[0.00395257 0.         0.         0.00395257 0.         0.\n",
      " 0.         0.         0.         0.         0.         0.\n",
      " 0.00395257 0.         0.00395257 0.         0.00395257 0.01581028\n",
      " 0.         0.         0.00790514 0.01185771 0.01185771 0.01976285\n",
      " 0.01581028 0.01976285 0.04347826 0.06719368 0.03952569 0.08300395\n",
      " 0.09881423 0.09090909 0.09881423 0.1027668  0.04347826 0.03952569\n",
      " 0.02766798 0.02371542 0.02371542 0.01976285 0.01976285 0.01185771\n",
      " 0.01185771 0.00395257 0.00395257 0.00790514 0.00395257 0.00395257\n",
      " 0.00395257 0.00395257]\n",
      "[0.00396825 0.         0.         0.         0.         0.\n",
      " 0.         0.00793651 0.01190476 0.00396825 0.01587302 0.00396825\n",
      " 0.02777778 0.01190476 0.01587302 0.02777778 0.02777778 0.02777778\n",
      " 0.05952381 0.02380952 0.03571429 0.0515873  0.05952381 0.07539683\n",
      " 0.07539683 0.06349206 0.0515873  0.05555556 0.04365079 0.02777778\n",
      " 0.01984127 0.03968254 0.01984127 0.03571429 0.01190476 0.01190476\n",
      " 0.01190476 0.00793651 0.00793651 0.00396825 0.         0.00396825\n",
      " 0.00793651 0.00396825 0.         0.         0.         0.\n",
      " 0.         0.00396825]\n"
     ]
    }
   ],
   "source": [
    "print(my_y)\n",
    "print(gen_y)"
   ]
  },
  {
   "cell_type": "code",
   "execution_count": null,
   "metadata": {},
   "outputs": [],
   "source": []
  }
 ],
 "metadata": {
  "kernelspec": {
   "display_name": "Python 3",
   "language": "python",
   "name": "python3"
  },
  "language_info": {
   "codemirror_mode": {
    "name": "ipython",
    "version": 3
   },
   "file_extension": ".py",
   "mimetype": "text/x-python",
   "name": "python",
   "nbconvert_exporter": "python",
   "pygments_lexer": "ipython3",
   "version": "3.8.3"
  }
 },
 "nbformat": 4,
 "nbformat_minor": 4
}
